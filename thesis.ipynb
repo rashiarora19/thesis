{
 "cells": [
  {
   "cell_type": "code",
   "execution_count": 1,
   "metadata": {},
   "outputs": [],
   "source": [
    "%matplotlib inline"
   ]
  },
  {
   "cell_type": "code",
   "execution_count": 3,
   "metadata": {},
   "outputs": [],
   "source": [
    "import pandas as pd\n",
    "import os\n",
    "import sys\n",
    "import matplotlib.pyplot as plt\n",
    "from IPython.display import display\n",
    "import geopandas as gpd\n",
    "from shapely.geometry import Point\n",
    "import shapely\n",
    "shapely.speedups.enable()\n",
    "from pylab import rcParams\n",
    "rcParams['figure.figsize'] = 10, 10"
   ]
  },
  {
   "cell_type": "code",
   "execution_count": 4,
   "metadata": {},
   "outputs": [],
   "source": [
    "def canonize_name(n):\n",
    "    return n.strip().lower().replace('  ',' ').replace(' ', '_')"
   ]
  },
  {
   "cell_type": "code",
   "execution_count": 5,
   "metadata": {},
   "outputs": [],
   "source": [
    "states = ['chandigarh', \n",
    "          'delhi', \n",
    "          'haryana',\n",
    "          'himachal_pradesh',\n",
    "          'punjab',\n",
    "          'rajasthan',\n",
    "          'uttar_pradesh',\n",
    "          'uttarakhand']"
   ]
  },
  {
   "cell_type": "code",
   "execution_count": 6,
   "metadata": {},
   "outputs": [],
   "source": [
    "stations = pd.concat([pd.read_csv(\"./stn_data.csv\"), pd.read_csv(\"./delhi_stn_data.csv\")])"
   ]
  },
  {
   "cell_type": "code",
   "execution_count": 7,
   "metadata": {},
   "outputs": [
    {
     "data": {
      "text/html": [
       "<div>\n",
       "<style scoped>\n",
       "    .dataframe tbody tr th:only-of-type {\n",
       "        vertical-align: middle;\n",
       "    }\n",
       "\n",
       "    .dataframe tbody tr th {\n",
       "        vertical-align: top;\n",
       "    }\n",
       "\n",
       "    .dataframe thead th {\n",
       "        text-align: right;\n",
       "    }\n",
       "</style>\n",
       "<table border=\"1\" class=\"dataframe\">\n",
       "  <thead>\n",
       "    <tr style=\"text-align: right;\">\n",
       "      <th></th>\n",
       "      <th>Latitude</th>\n",
       "      <th>Longitude</th>\n",
       "      <th>address</th>\n",
       "      <th>location</th>\n",
       "      <th>stn_code</th>\n",
       "    </tr>\n",
       "  </thead>\n",
       "  <tbody>\n",
       "    <tr>\n",
       "      <th>0</th>\n",
       "      <td>30.705433</td>\n",
       "      <td>76.800596</td>\n",
       "      <td>Modern Foods, Industrial Area, Chandigarh, Cha...</td>\n",
       "      <td>{'lat': 30.705433, 'lng': 76.800596}</td>\n",
       "      <td>106</td>\n",
       "    </tr>\n",
       "    <tr>\n",
       "      <th>1</th>\n",
       "      <td>30.739834</td>\n",
       "      <td>76.782702</td>\n",
       "      <td>Sector-17 C, Chandigarh, Chandigarh, Chandigar...</td>\n",
       "      <td>{'lat': 30.7398339, 'lng': 76.782702}</td>\n",
       "      <td>263</td>\n",
       "    </tr>\n",
       "    <tr>\n",
       "      <th>2</th>\n",
       "      <td>30.768049</td>\n",
       "      <td>76.782702</td>\n",
       "      <td>Punjab Engineering College, Sector-12, Chandig...</td>\n",
       "      <td>{'lat': 30.7680494, 'lng': 76.782702}</td>\n",
       "      <td>264</td>\n",
       "    </tr>\n",
       "    <tr>\n",
       "      <th>3</th>\n",
       "      <td>30.747768</td>\n",
       "      <td>76.733700</td>\n",
       "      <td>IMTECH Sector 39, Chandigarh, Chandigarh, Chan...</td>\n",
       "      <td>{'lat': 30.747768, 'lng': 76.7337}</td>\n",
       "      <td>463</td>\n",
       "    </tr>\n",
       "    <tr>\n",
       "      <th>4</th>\n",
       "      <td>30.755282</td>\n",
       "      <td>76.823082</td>\n",
       "      <td>Kaimbwala Village, Chandigarh, Chandigarh, Cha...</td>\n",
       "      <td>{'lat': 30.7552818, 'lng': 76.8230815}</td>\n",
       "      <td>464</td>\n",
       "    </tr>\n",
       "  </tbody>\n",
       "</table>\n",
       "</div>"
      ],
      "text/plain": [
       "    Latitude  Longitude                                            address  \\\n",
       "0  30.705433  76.800596  Modern Foods, Industrial Area, Chandigarh, Cha...   \n",
       "1  30.739834  76.782702  Sector-17 C, Chandigarh, Chandigarh, Chandigar...   \n",
       "2  30.768049  76.782702  Punjab Engineering College, Sector-12, Chandig...   \n",
       "3  30.747768  76.733700  IMTECH Sector 39, Chandigarh, Chandigarh, Chan...   \n",
       "4  30.755282  76.823082  Kaimbwala Village, Chandigarh, Chandigarh, Cha...   \n",
       "\n",
       "                                 location  stn_code  \n",
       "0    {'lat': 30.705433, 'lng': 76.800596}       106  \n",
       "1   {'lat': 30.7398339, 'lng': 76.782702}       263  \n",
       "2   {'lat': 30.7680494, 'lng': 76.782702}       264  \n",
       "3      {'lat': 30.747768, 'lng': 76.7337}       463  \n",
       "4  {'lat': 30.7552818, 'lng': 76.8230815}       464  "
      ]
     },
     "execution_count": 7,
     "metadata": {},
     "output_type": "execute_result"
    }
   ],
   "source": [
    "stations.head()"
   ]
  },
  {
   "cell_type": "markdown",
   "metadata": {},
   "source": [
    "# exposure"
   ]
  },
  {
   "cell_type": "code",
   "execution_count": 8,
   "metadata": {
    "scrolled": false
   },
   "outputs": [
    {
     "name": "stdout",
     "output_type": "stream",
     "text": [
      "chandigarh 2014\n",
      "chandigarh 2015\n",
      "delhi 2014\n",
      "delhi 2015\n",
      "haryana 2014\n",
      "haryana 2015\n",
      "himachal_pradesh 2014\n",
      "himachal_pradesh 2015\n",
      "punjab 2014\n",
      "punjab 2015\n",
      "rajasthan 2014\n",
      "rajasthan 2015\n",
      "uttar_pradesh 2014\n",
      "uttar_pradesh 2015\n",
      "Not found: ./exposure_data/cpcb_dly_aq_uttarakhand-2014.csv\n",
      "uttarakhand 2015\n"
     ]
    }
   ],
   "source": [
    "all_df = pd.DataFrame()\n",
    "for s in states:\n",
    "    for y in range(2014, 2016):\n",
    "        fname = \"./exposure_data/cpcb_dly_aq_{state}-{year}.csv\".format(state=s, year=y)\n",
    "        if os.path.isfile(fname):\n",
    "            print(s, y)\n",
    "            all_df = pd.concat([all_df,\n",
    "                                pd.read_csv(fname)])\n",
    "        else:\n",
    "            print(\"Not found:\", fname)"
   ]
  },
  {
   "cell_type": "code",
   "execution_count": 9,
   "metadata": {
    "scrolled": false
   },
   "outputs": [],
   "source": [
    "a = set(all_df['Stn Code'].unique())"
   ]
  },
  {
   "cell_type": "code",
   "execution_count": 10,
   "metadata": {},
   "outputs": [],
   "source": [
    "b = set(stations.stn_code.unique())"
   ]
  },
  {
   "cell_type": "code",
   "execution_count": 11,
   "metadata": {},
   "outputs": [
    {
     "data": {
      "text/html": [
       "<div>\n",
       "<style scoped>\n",
       "    .dataframe tbody tr th:only-of-type {\n",
       "        vertical-align: middle;\n",
       "    }\n",
       "\n",
       "    .dataframe tbody tr th {\n",
       "        vertical-align: top;\n",
       "    }\n",
       "\n",
       "    .dataframe thead th {\n",
       "        text-align: right;\n",
       "    }\n",
       "</style>\n",
       "<table border=\"1\" class=\"dataframe\">\n",
       "  <thead>\n",
       "    <tr style=\"text-align: right;\">\n",
       "      <th></th>\n",
       "      <th>Stn Code</th>\n",
       "      <th>Sampling Date</th>\n",
       "      <th>State</th>\n",
       "      <th>City/Town/Village/Area</th>\n",
       "      <th>Location of Monitoring Station</th>\n",
       "      <th>Agency</th>\n",
       "      <th>Type of Location</th>\n",
       "      <th>SO2</th>\n",
       "      <th>NO2</th>\n",
       "      <th>RSPM/PM10</th>\n",
       "      <th>PM 2.5</th>\n",
       "    </tr>\n",
       "  </thead>\n",
       "  <tbody>\n",
       "  </tbody>\n",
       "</table>\n",
       "</div>"
      ],
      "text/plain": [
       "Empty DataFrame\n",
       "Columns: [Stn Code, Sampling Date, State, City/Town/Village/Area, Location of Monitoring Station, Agency, Type of Location, SO2, NO2, RSPM/PM10, PM 2.5]\n",
       "Index: []"
      ]
     },
     "execution_count": 11,
     "metadata": {},
     "output_type": "execute_result"
    }
   ],
   "source": [
    "all_df[all_df['Stn Code'].isin(a - b)].head(1)"
   ]
  },
  {
   "cell_type": "code",
   "execution_count": 12,
   "metadata": {},
   "outputs": [],
   "source": [
    "all_df = pd.merge(all_df, stations, left_on='Stn Code', right_on='stn_code')"
   ]
  },
  {
   "cell_type": "code",
   "execution_count": 13,
   "metadata": {},
   "outputs": [
    {
     "data": {
      "text/plain": [
       "Index(['Stn Code', 'Sampling Date', 'State', 'City/Town/Village/Area',\n",
       "       'Location of Monitoring Station', 'Agency', 'Type of Location', 'SO2',\n",
       "       'NO2', 'RSPM/PM10', 'PM 2.5', 'Latitude', 'Longitude', 'address',\n",
       "       'location', 'stn_code'],\n",
       "      dtype='object')"
      ]
     },
     "execution_count": 13,
     "metadata": {},
     "output_type": "execute_result"
    }
   ],
   "source": [
    "all_df.columns"
   ]
  },
  {
   "cell_type": "code",
   "execution_count": 14,
   "metadata": {},
   "outputs": [],
   "source": [
    "all_df['Sampling Date'] = pd.to_datetime(all_df['Sampling Date'])"
   ]
  },
  {
   "cell_type": "code",
   "execution_count": 15,
   "metadata": {},
   "outputs": [
    {
     "data": {
      "text/html": [
       "<div>\n",
       "<style scoped>\n",
       "    .dataframe tbody tr th:only-of-type {\n",
       "        vertical-align: middle;\n",
       "    }\n",
       "\n",
       "    .dataframe tbody tr th {\n",
       "        vertical-align: top;\n",
       "    }\n",
       "\n",
       "    .dataframe thead th {\n",
       "        text-align: right;\n",
       "    }\n",
       "</style>\n",
       "<table border=\"1\" class=\"dataframe\">\n",
       "  <thead>\n",
       "    <tr style=\"text-align: right;\">\n",
       "      <th></th>\n",
       "      <th>Stn Code</th>\n",
       "      <th>Sampling Date</th>\n",
       "      <th>State</th>\n",
       "      <th>City/Town/Village/Area</th>\n",
       "      <th>Location of Monitoring Station</th>\n",
       "      <th>Agency</th>\n",
       "      <th>Type of Location</th>\n",
       "      <th>SO2</th>\n",
       "      <th>NO2</th>\n",
       "      <th>RSPM/PM10</th>\n",
       "      <th>PM 2.5</th>\n",
       "      <th>Latitude</th>\n",
       "      <th>Longitude</th>\n",
       "      <th>address</th>\n",
       "      <th>location</th>\n",
       "      <th>stn_code</th>\n",
       "    </tr>\n",
       "  </thead>\n",
       "  <tbody>\n",
       "    <tr>\n",
       "      <th>0</th>\n",
       "      <td>106</td>\n",
       "      <td>2014-01-01</td>\n",
       "      <td>Chandigarh</td>\n",
       "      <td>Chandigarh</td>\n",
       "      <td>Modern Foods, Industrial Area, Chandigarh</td>\n",
       "      <td>Chandigarh Pollution Control Committee</td>\n",
       "      <td>Industrial Area</td>\n",
       "      <td>2.0</td>\n",
       "      <td>16.0</td>\n",
       "      <td>247.0</td>\n",
       "      <td>NaN</td>\n",
       "      <td>30.705433</td>\n",
       "      <td>76.800596</td>\n",
       "      <td>Modern Foods, Industrial Area, Chandigarh, Cha...</td>\n",
       "      <td>{'lat': 30.705433, 'lng': 76.800596}</td>\n",
       "      <td>106</td>\n",
       "    </tr>\n",
       "    <tr>\n",
       "      <th>1</th>\n",
       "      <td>106</td>\n",
       "      <td>2014-01-03</td>\n",
       "      <td>Chandigarh</td>\n",
       "      <td>Chandigarh</td>\n",
       "      <td>Modern Foods, Industrial Area, Chandigarh</td>\n",
       "      <td>Chandigarh Pollution Control Committee</td>\n",
       "      <td>Industrial Area</td>\n",
       "      <td>2.0</td>\n",
       "      <td>44.0</td>\n",
       "      <td>247.0</td>\n",
       "      <td>NaN</td>\n",
       "      <td>30.705433</td>\n",
       "      <td>76.800596</td>\n",
       "      <td>Modern Foods, Industrial Area, Chandigarh, Cha...</td>\n",
       "      <td>{'lat': 30.705433, 'lng': 76.800596}</td>\n",
       "      <td>106</td>\n",
       "    </tr>\n",
       "    <tr>\n",
       "      <th>2</th>\n",
       "      <td>106</td>\n",
       "      <td>2014-01-06</td>\n",
       "      <td>Chandigarh</td>\n",
       "      <td>Chandigarh</td>\n",
       "      <td>Modern Foods, Industrial Area, Chandigarh</td>\n",
       "      <td>Chandigarh Pollution Control Committee</td>\n",
       "      <td>Industrial Area</td>\n",
       "      <td>2.0</td>\n",
       "      <td>50.0</td>\n",
       "      <td>263.0</td>\n",
       "      <td>NaN</td>\n",
       "      <td>30.705433</td>\n",
       "      <td>76.800596</td>\n",
       "      <td>Modern Foods, Industrial Area, Chandigarh, Cha...</td>\n",
       "      <td>{'lat': 30.705433, 'lng': 76.800596}</td>\n",
       "      <td>106</td>\n",
       "    </tr>\n",
       "    <tr>\n",
       "      <th>3</th>\n",
       "      <td>106</td>\n",
       "      <td>2014-01-08</td>\n",
       "      <td>Chandigarh</td>\n",
       "      <td>Chandigarh</td>\n",
       "      <td>Modern Foods, Industrial Area, Chandigarh</td>\n",
       "      <td>Chandigarh Pollution Control Committee</td>\n",
       "      <td>Industrial Area</td>\n",
       "      <td>2.0</td>\n",
       "      <td>39.0</td>\n",
       "      <td>306.0</td>\n",
       "      <td>NaN</td>\n",
       "      <td>30.705433</td>\n",
       "      <td>76.800596</td>\n",
       "      <td>Modern Foods, Industrial Area, Chandigarh, Cha...</td>\n",
       "      <td>{'lat': 30.705433, 'lng': 76.800596}</td>\n",
       "      <td>106</td>\n",
       "    </tr>\n",
       "    <tr>\n",
       "      <th>4</th>\n",
       "      <td>106</td>\n",
       "      <td>2014-01-10</td>\n",
       "      <td>Chandigarh</td>\n",
       "      <td>Chandigarh</td>\n",
       "      <td>Modern Foods, Industrial Area, Chandigarh</td>\n",
       "      <td>Chandigarh Pollution Control Committee</td>\n",
       "      <td>Industrial Area</td>\n",
       "      <td>2.0</td>\n",
       "      <td>43.0</td>\n",
       "      <td>89.0</td>\n",
       "      <td>NaN</td>\n",
       "      <td>30.705433</td>\n",
       "      <td>76.800596</td>\n",
       "      <td>Modern Foods, Industrial Area, Chandigarh, Cha...</td>\n",
       "      <td>{'lat': 30.705433, 'lng': 76.800596}</td>\n",
       "      <td>106</td>\n",
       "    </tr>\n",
       "  </tbody>\n",
       "</table>\n",
       "</div>"
      ],
      "text/plain": [
       "   Stn Code Sampling Date       State City/Town/Village/Area  \\\n",
       "0       106    2014-01-01  Chandigarh             Chandigarh   \n",
       "1       106    2014-01-03  Chandigarh             Chandigarh   \n",
       "2       106    2014-01-06  Chandigarh             Chandigarh   \n",
       "3       106    2014-01-08  Chandigarh             Chandigarh   \n",
       "4       106    2014-01-10  Chandigarh             Chandigarh   \n",
       "\n",
       "              Location of Monitoring Station  \\\n",
       "0  Modern Foods, Industrial Area, Chandigarh   \n",
       "1  Modern Foods, Industrial Area, Chandigarh   \n",
       "2  Modern Foods, Industrial Area, Chandigarh   \n",
       "3  Modern Foods, Industrial Area, Chandigarh   \n",
       "4  Modern Foods, Industrial Area, Chandigarh   \n",
       "\n",
       "                                   Agency Type of Location  SO2   NO2  \\\n",
       "0  Chandigarh Pollution Control Committee  Industrial Area  2.0  16.0   \n",
       "1  Chandigarh Pollution Control Committee  Industrial Area  2.0  44.0   \n",
       "2  Chandigarh Pollution Control Committee  Industrial Area  2.0  50.0   \n",
       "3  Chandigarh Pollution Control Committee  Industrial Area  2.0  39.0   \n",
       "4  Chandigarh Pollution Control Committee  Industrial Area  2.0  43.0   \n",
       "\n",
       "   RSPM/PM10  PM 2.5   Latitude  Longitude  \\\n",
       "0      247.0     NaN  30.705433  76.800596   \n",
       "1      247.0     NaN  30.705433  76.800596   \n",
       "2      263.0     NaN  30.705433  76.800596   \n",
       "3      306.0     NaN  30.705433  76.800596   \n",
       "4       89.0     NaN  30.705433  76.800596   \n",
       "\n",
       "                                             address  \\\n",
       "0  Modern Foods, Industrial Area, Chandigarh, Cha...   \n",
       "1  Modern Foods, Industrial Area, Chandigarh, Cha...   \n",
       "2  Modern Foods, Industrial Area, Chandigarh, Cha...   \n",
       "3  Modern Foods, Industrial Area, Chandigarh, Cha...   \n",
       "4  Modern Foods, Industrial Area, Chandigarh, Cha...   \n",
       "\n",
       "                               location  stn_code  \n",
       "0  {'lat': 30.705433, 'lng': 76.800596}       106  \n",
       "1  {'lat': 30.705433, 'lng': 76.800596}       106  \n",
       "2  {'lat': 30.705433, 'lng': 76.800596}       106  \n",
       "3  {'lat': 30.705433, 'lng': 76.800596}       106  \n",
       "4  {'lat': 30.705433, 'lng': 76.800596}       106  "
      ]
     },
     "execution_count": 15,
     "metadata": {},
     "output_type": "execute_result"
    }
   ],
   "source": [
    "all_df.head()"
   ]
  },
  {
   "cell_type": "code",
   "execution_count": 16,
   "metadata": {
    "scrolled": false
   },
   "outputs": [],
   "source": [
    "def agg_set(x):\n",
    "    return len(set(x))\n",
    "\n",
    "final_df = all_df.groupby(['Stn Code', all_df['Sampling Date'].dt.year]).agg({\n",
    "    'RSPM/PM10': 'mean',\n",
    "    'Latitude': 'max',\n",
    "    'Longitude': 'max',\n",
    "    'State': 'max',\n",
    "    'Location of Monitoring Station': 'max'\n",
    "}).reset_index()"
   ]
  },
  {
   "cell_type": "code",
   "execution_count": 17,
   "metadata": {},
   "outputs": [],
   "source": [
    "final_df.rename(columns={\n",
    "    'Stn Code': 'stn_code',\n",
    "    'RSPM/PM10': 'pm10',\n",
    "    'Sampling Date': 'year',\n",
    "    'Location of Monitoring Station': 'address'\n",
    "}, inplace=True)"
   ]
  },
  {
   "cell_type": "code",
   "execution_count": 18,
   "metadata": {},
   "outputs": [
    {
     "data": {
      "text/html": [
       "<div>\n",
       "<style scoped>\n",
       "    .dataframe tbody tr th:only-of-type {\n",
       "        vertical-align: middle;\n",
       "    }\n",
       "\n",
       "    .dataframe tbody tr th {\n",
       "        vertical-align: top;\n",
       "    }\n",
       "\n",
       "    .dataframe thead th {\n",
       "        text-align: right;\n",
       "    }\n",
       "</style>\n",
       "<table border=\"1\" class=\"dataframe\">\n",
       "  <thead>\n",
       "    <tr style=\"text-align: right;\">\n",
       "      <th></th>\n",
       "      <th>stn_code</th>\n",
       "      <th>year</th>\n",
       "      <th>pm10</th>\n",
       "      <th>Latitude</th>\n",
       "      <th>Longitude</th>\n",
       "      <th>State</th>\n",
       "      <th>address</th>\n",
       "    </tr>\n",
       "  </thead>\n",
       "  <tbody>\n",
       "    <tr>\n",
       "      <th>0</th>\n",
       "      <td>1</td>\n",
       "      <td>2014</td>\n",
       "      <td>151.333333</td>\n",
       "      <td>27.175015</td>\n",
       "      <td>78.042155</td>\n",
       "      <td>Uttar Pradesh</td>\n",
       "      <td>Taj Mahal, Agra</td>\n",
       "    </tr>\n",
       "    <tr>\n",
       "      <th>1</th>\n",
       "      <td>1</td>\n",
       "      <td>2015</td>\n",
       "      <td>165.295139</td>\n",
       "      <td>27.175015</td>\n",
       "      <td>78.042155</td>\n",
       "      <td>Uttar Pradesh</td>\n",
       "      <td>Taj Mahal, Agra</td>\n",
       "    </tr>\n",
       "    <tr>\n",
       "      <th>2</th>\n",
       "      <td>6</td>\n",
       "      <td>2014</td>\n",
       "      <td>128.070000</td>\n",
       "      <td>24.198823</td>\n",
       "      <td>82.767296</td>\n",
       "      <td>Uttar Pradesh</td>\n",
       "      <td>Anpara Colony, Sonabhadra, Anpara</td>\n",
       "    </tr>\n",
       "    <tr>\n",
       "      <th>3</th>\n",
       "      <td>6</td>\n",
       "      <td>2015</td>\n",
       "      <td>132.978022</td>\n",
       "      <td>24.198823</td>\n",
       "      <td>82.767296</td>\n",
       "      <td>Uttar Pradesh</td>\n",
       "      <td>Anpara Colony, Sonabhadra, Anpara</td>\n",
       "    </tr>\n",
       "    <tr>\n",
       "      <th>4</th>\n",
       "      <td>7</td>\n",
       "      <td>2014</td>\n",
       "      <td>133.079208</td>\n",
       "      <td>24.182727</td>\n",
       "      <td>82.789890</td>\n",
       "      <td>Uttar Pradesh</td>\n",
       "      <td>Renusagar Colony, Sonabhadra, Anpara</td>\n",
       "    </tr>\n",
       "  </tbody>\n",
       "</table>\n",
       "</div>"
      ],
      "text/plain": [
       "   stn_code  year        pm10   Latitude  Longitude          State  \\\n",
       "0         1  2014  151.333333  27.175015  78.042155  Uttar Pradesh   \n",
       "1         1  2015  165.295139  27.175015  78.042155  Uttar Pradesh   \n",
       "2         6  2014  128.070000  24.198823  82.767296  Uttar Pradesh   \n",
       "3         6  2015  132.978022  24.198823  82.767296  Uttar Pradesh   \n",
       "4         7  2014  133.079208  24.182727  82.789890  Uttar Pradesh   \n",
       "\n",
       "                                address  \n",
       "0                       Taj Mahal, Agra  \n",
       "1                       Taj Mahal, Agra  \n",
       "2     Anpara Colony, Sonabhadra, Anpara  \n",
       "3     Anpara Colony, Sonabhadra, Anpara  \n",
       "4  Renusagar Colony, Sonabhadra, Anpara  "
      ]
     },
     "execution_count": 18,
     "metadata": {},
     "output_type": "execute_result"
    }
   ],
   "source": [
    "final_df.head()"
   ]
  },
  {
   "cell_type": "code",
   "execution_count": 19,
   "metadata": {
    "scrolled": false
   },
   "outputs": [],
   "source": [
    "india = gpd.read_file(\"./map/IND_adm2.shp\")"
   ]
  },
  {
   "cell_type": "code",
   "execution_count": 20,
   "metadata": {},
   "outputs": [
    {
     "data": {
      "text/plain": [
       "<matplotlib.axes._subplots.AxesSubplot at 0x7f4db01f99e8>"
      ]
     },
     "execution_count": 20,
     "metadata": {},
     "output_type": "execute_result"
    },
    {
     "data": {
      "image/png": "[encoded data removed]",
      "text/plain": [
       "<matplotlib.figure.Figure at 0x7f4db0205ef0>"
      ]
     },
     "metadata": {},
     "output_type": "display_data"
    }
   ],
   "source": [
    "india.plot()"
   ]
  },
  {
   "cell_type": "code",
   "execution_count": 21,
   "metadata": {},
   "outputs": [
    {
     "data": {
      "text/html": [
       "<div>\n",
       "<style scoped>\n",
       "    .dataframe tbody tr th:only-of-type {\n",
       "        vertical-align: middle;\n",
       "    }\n",
       "\n",
       "    .dataframe tbody tr th {\n",
       "        vertical-align: top;\n",
       "    }\n",
       "\n",
       "    .dataframe thead th {\n",
       "        text-align: right;\n",
       "    }\n",
       "</style>\n",
       "<table border=\"1\" class=\"dataframe\">\n",
       "  <thead>\n",
       "    <tr style=\"text-align: right;\">\n",
       "      <th></th>\n",
       "      <th>ID_0</th>\n",
       "      <th>ISO</th>\n",
       "      <th>NAME_0</th>\n",
       "      <th>ID_1</th>\n",
       "      <th>NAME_1</th>\n",
       "      <th>ID_2</th>\n",
       "      <th>NAME_2</th>\n",
       "      <th>HASC_2</th>\n",
       "      <th>CCN_2</th>\n",
       "      <th>CCA_2</th>\n",
       "      <th>TYPE_2</th>\n",
       "      <th>ENGTYPE_2</th>\n",
       "      <th>NL_NAME_2</th>\n",
       "      <th>VARNAME_2</th>\n",
       "      <th>geometry</th>\n",
       "    </tr>\n",
       "  </thead>\n",
       "  <tbody>\n",
       "    <tr>\n",
       "      <th>0</th>\n",
       "      <td>105</td>\n",
       "      <td>IND</td>\n",
       "      <td>India</td>\n",
       "      <td>1</td>\n",
       "      <td>Andaman and Nicobar</td>\n",
       "      <td>1</td>\n",
       "      <td>Nicobar Islands</td>\n",
       "      <td>IN.AN.NI</td>\n",
       "      <td>0</td>\n",
       "      <td></td>\n",
       "      <td>District</td>\n",
       "      <td>District</td>\n",
       "      <td></td>\n",
       "      <td></td>\n",
       "      <td>(POLYGON ((92.78778076171886 9.244166374206543...</td>\n",
       "    </tr>\n",
       "    <tr>\n",
       "      <th>1</th>\n",
       "      <td>105</td>\n",
       "      <td>IND</td>\n",
       "      <td>India</td>\n",
       "      <td>1</td>\n",
       "      <td>Andaman and Nicobar</td>\n",
       "      <td>2</td>\n",
       "      <td>North and Middle Andaman</td>\n",
       "      <td>IN.AN.NM</td>\n",
       "      <td>0</td>\n",
       "      <td></td>\n",
       "      <td>District</td>\n",
       "      <td>District</td>\n",
       "      <td></td>\n",
       "      <td></td>\n",
       "      <td>(POLYGON ((93.64840698242182 14.93486976623529...</td>\n",
       "    </tr>\n",
       "    <tr>\n",
       "      <th>2</th>\n",
       "      <td>105</td>\n",
       "      <td>IND</td>\n",
       "      <td>India</td>\n",
       "      <td>1</td>\n",
       "      <td>Andaman and Nicobar</td>\n",
       "      <td>3</td>\n",
       "      <td>South Andaman</td>\n",
       "      <td>IN.AN.SA</td>\n",
       "      <td>0</td>\n",
       "      <td></td>\n",
       "      <td>District</td>\n",
       "      <td>District</td>\n",
       "      <td></td>\n",
       "      <td></td>\n",
       "      <td>(POLYGON ((93.83969879150402 12.32081985473638...</td>\n",
       "    </tr>\n",
       "    <tr>\n",
       "      <th>3</th>\n",
       "      <td>105</td>\n",
       "      <td>IND</td>\n",
       "      <td>India</td>\n",
       "      <td>2</td>\n",
       "      <td>Andhra Pradesh</td>\n",
       "      <td>4</td>\n",
       "      <td>Anantapur</td>\n",
       "      <td>IN.AD.AN</td>\n",
       "      <td>0</td>\n",
       "      <td></td>\n",
       "      <td>District</td>\n",
       "      <td>District</td>\n",
       "      <td></td>\n",
       "      <td>Anantpur, Ananthapur</td>\n",
       "      <td>POLYGON ((77.69000244140619 15.17628002166754,...</td>\n",
       "    </tr>\n",
       "    <tr>\n",
       "      <th>4</th>\n",
       "      <td>105</td>\n",
       "      <td>IND</td>\n",
       "      <td>India</td>\n",
       "      <td>2</td>\n",
       "      <td>Andhra Pradesh</td>\n",
       "      <td>5</td>\n",
       "      <td>Chittoor</td>\n",
       "      <td>IN.AD.CH</td>\n",
       "      <td>0</td>\n",
       "      <td></td>\n",
       "      <td>District</td>\n",
       "      <td>District</td>\n",
       "      <td></td>\n",
       "      <td>Chitoor|Chittor</td>\n",
       "      <td>POLYGON ((78.47611236572271 13.93680191040033,...</td>\n",
       "    </tr>\n",
       "  </tbody>\n",
       "</table>\n",
       "</div>"
      ],
      "text/plain": [
       "   ID_0  ISO NAME_0  ID_1               NAME_1  ID_2  \\\n",
       "0   105  IND  India     1  Andaman and Nicobar     1   \n",
       "1   105  IND  India     1  Andaman and Nicobar     2   \n",
       "2   105  IND  India     1  Andaman and Nicobar     3   \n",
       "3   105  IND  India     2       Andhra Pradesh     4   \n",
       "4   105  IND  India     2       Andhra Pradesh     5   \n",
       "\n",
       "                     NAME_2    HASC_2  CCN_2 CCA_2    TYPE_2 ENGTYPE_2  \\\n",
       "0           Nicobar Islands  IN.AN.NI      0        District  District   \n",
       "1  North and Middle Andaman  IN.AN.NM      0        District  District   \n",
       "2             South Andaman  IN.AN.SA      0        District  District   \n",
       "3                 Anantapur  IN.AD.AN      0        District  District   \n",
       "4                  Chittoor  IN.AD.CH      0        District  District   \n",
       "\n",
       "  NL_NAME_2             VARNAME_2  \\\n",
       "0                                   \n",
       "1                                   \n",
       "2                                   \n",
       "3            Anantpur, Ananthapur   \n",
       "4                 Chitoor|Chittor   \n",
       "\n",
       "                                            geometry  \n",
       "0  (POLYGON ((92.78778076171886 9.244166374206543...  \n",
       "1  (POLYGON ((93.64840698242182 14.93486976623529...  \n",
       "2  (POLYGON ((93.83969879150402 12.32081985473638...  \n",
       "3  POLYGON ((77.69000244140619 15.17628002166754,...  \n",
       "4  POLYGON ((78.47611236572271 13.93680191040033,...  "
      ]
     },
     "execution_count": 21,
     "metadata": {},
     "output_type": "execute_result"
    }
   ],
   "source": [
    "india.head()"
   ]
  },
  {
   "cell_type": "code",
   "execution_count": 22,
   "metadata": {},
   "outputs": [],
   "source": [
    "geometry = [Point(xy) for xy in zip(final_df.Longitude, final_df.Latitude)]"
   ]
  },
  {
   "cell_type": "code",
   "execution_count": 23,
   "metadata": {},
   "outputs": [],
   "source": [
    "crs = {'init': 'epsg:4326'}\n",
    "final_gdf = gpd.GeoDataFrame(final_df, crs=crs, geometry=geometry)"
   ]
  },
  {
   "cell_type": "code",
   "execution_count": 24,
   "metadata": {},
   "outputs": [
    {
     "data": {
      "text/plain": [
       "<matplotlib.axes._subplots.AxesSubplot at 0x7f4db01326d8>"
      ]
     },
     "execution_count": 24,
     "metadata": {},
     "output_type": "execute_result"
    },
    {
     "data": {
      "image/png": "[encoded data removed]",
      "text/plain": [
       "<matplotlib.figure.Figure at 0x7f4db0205198>"
      ]
     },
     "metadata": {},
     "output_type": "display_data"
    }
   ],
   "source": [
    "final_gdf.plot()"
   ]
  },
  {
   "cell_type": "code",
   "execution_count": 25,
   "metadata": {
    "scrolled": false
   },
   "outputs": [],
   "source": [
    "exposure_df = gpd.sjoin(final_gdf, india, how='inner', op='intersects')"
   ]
  },
  {
   "cell_type": "code",
   "execution_count": 26,
   "metadata": {},
   "outputs": [
    {
     "data": {
      "text/html": [
       "<div>\n",
       "<style scoped>\n",
       "    .dataframe tbody tr th:only-of-type {\n",
       "        vertical-align: middle;\n",
       "    }\n",
       "\n",
       "    .dataframe tbody tr th {\n",
       "        vertical-align: top;\n",
       "    }\n",
       "\n",
       "    .dataframe thead th {\n",
       "        text-align: right;\n",
       "    }\n",
       "</style>\n",
       "<table border=\"1\" class=\"dataframe\">\n",
       "  <thead>\n",
       "    <tr style=\"text-align: right;\">\n",
       "      <th></th>\n",
       "      <th>stn_code</th>\n",
       "      <th>year</th>\n",
       "      <th>pm10</th>\n",
       "      <th>Latitude</th>\n",
       "      <th>Longitude</th>\n",
       "      <th>State</th>\n",
       "      <th>address</th>\n",
       "      <th>geometry</th>\n",
       "      <th>index_right</th>\n",
       "      <th>ID_0</th>\n",
       "      <th>...</th>\n",
       "      <th>NAME_1</th>\n",
       "      <th>ID_2</th>\n",
       "      <th>NAME_2</th>\n",
       "      <th>HASC_2</th>\n",
       "      <th>CCN_2</th>\n",
       "      <th>CCA_2</th>\n",
       "      <th>TYPE_2</th>\n",
       "      <th>ENGTYPE_2</th>\n",
       "      <th>NL_NAME_2</th>\n",
       "      <th>VARNAME_2</th>\n",
       "    </tr>\n",
       "  </thead>\n",
       "  <tbody>\n",
       "    <tr>\n",
       "      <th>0</th>\n",
       "      <td>1</td>\n",
       "      <td>2014</td>\n",
       "      <td>151.333333</td>\n",
       "      <td>27.175015</td>\n",
       "      <td>78.042155</td>\n",
       "      <td>Uttar Pradesh</td>\n",
       "      <td>Taj Mahal, Agra</td>\n",
       "      <td>POINT (78.0421552 27.1750151)</td>\n",
       "      <td>559</td>\n",
       "      <td>105</td>\n",
       "      <td>...</td>\n",
       "      <td>Uttar Pradesh</td>\n",
       "      <td>559</td>\n",
       "      <td>Agra</td>\n",
       "      <td>IN.UP.AG</td>\n",
       "      <td>0</td>\n",
       "      <td></td>\n",
       "      <td>District</td>\n",
       "      <td>District</td>\n",
       "      <td></td>\n",
       "      <td></td>\n",
       "    </tr>\n",
       "    <tr>\n",
       "      <th>1</th>\n",
       "      <td>1</td>\n",
       "      <td>2015</td>\n",
       "      <td>165.295139</td>\n",
       "      <td>27.175015</td>\n",
       "      <td>78.042155</td>\n",
       "      <td>Uttar Pradesh</td>\n",
       "      <td>Taj Mahal, Agra</td>\n",
       "      <td>POINT (78.0421552 27.1750151)</td>\n",
       "      <td>559</td>\n",
       "      <td>105</td>\n",
       "      <td>...</td>\n",
       "      <td>Uttar Pradesh</td>\n",
       "      <td>559</td>\n",
       "      <td>Agra</td>\n",
       "      <td>IN.UP.AG</td>\n",
       "      <td>0</td>\n",
       "      <td></td>\n",
       "      <td>District</td>\n",
       "      <td>District</td>\n",
       "      <td></td>\n",
       "      <td></td>\n",
       "    </tr>\n",
       "    <tr>\n",
       "      <th>89</th>\n",
       "      <td>323</td>\n",
       "      <td>2014</td>\n",
       "      <td>161.157895</td>\n",
       "      <td>27.207770</td>\n",
       "      <td>77.977434</td>\n",
       "      <td>Uttar Pradesh</td>\n",
       "      <td>Regional Office, Bodla, Agra</td>\n",
       "      <td>POINT (77.9774341 27.2077695)</td>\n",
       "      <td>559</td>\n",
       "      <td>105</td>\n",
       "      <td>...</td>\n",
       "      <td>Uttar Pradesh</td>\n",
       "      <td>559</td>\n",
       "      <td>Agra</td>\n",
       "      <td>IN.UP.AG</td>\n",
       "      <td>0</td>\n",
       "      <td></td>\n",
       "      <td>District</td>\n",
       "      <td>District</td>\n",
       "      <td></td>\n",
       "      <td></td>\n",
       "    </tr>\n",
       "    <tr>\n",
       "      <th>90</th>\n",
       "      <td>323</td>\n",
       "      <td>2015</td>\n",
       "      <td>166.753086</td>\n",
       "      <td>27.207770</td>\n",
       "      <td>77.977434</td>\n",
       "      <td>Uttar Pradesh</td>\n",
       "      <td>Regional Office, Bodla, Agra</td>\n",
       "      <td>POINT (77.9774341 27.2077695)</td>\n",
       "      <td>559</td>\n",
       "      <td>105</td>\n",
       "      <td>...</td>\n",
       "      <td>Uttar Pradesh</td>\n",
       "      <td>559</td>\n",
       "      <td>Agra</td>\n",
       "      <td>IN.UP.AG</td>\n",
       "      <td>0</td>\n",
       "      <td></td>\n",
       "      <td>District</td>\n",
       "      <td>District</td>\n",
       "      <td></td>\n",
       "      <td></td>\n",
       "    </tr>\n",
       "    <tr>\n",
       "      <th>159</th>\n",
       "      <td>417</td>\n",
       "      <td>2014</td>\n",
       "      <td>169.226277</td>\n",
       "      <td>27.203916</td>\n",
       "      <td>78.001391</td>\n",
       "      <td>Uttar Pradesh</td>\n",
       "      <td>Rambagh, Agra</td>\n",
       "      <td>POINT (78.0013908 27.203916)</td>\n",
       "      <td>559</td>\n",
       "      <td>105</td>\n",
       "      <td>...</td>\n",
       "      <td>Uttar Pradesh</td>\n",
       "      <td>559</td>\n",
       "      <td>Agra</td>\n",
       "      <td>IN.UP.AG</td>\n",
       "      <td>0</td>\n",
       "      <td></td>\n",
       "      <td>District</td>\n",
       "      <td>District</td>\n",
       "      <td></td>\n",
       "      <td></td>\n",
       "    </tr>\n",
       "  </tbody>\n",
       "</table>\n",
       "<p>5 rows × 23 columns</p>\n",
       "</div>"
      ],
      "text/plain": [
       "     stn_code  year        pm10   Latitude  Longitude          State  \\\n",
       "0           1  2014  151.333333  27.175015  78.042155  Uttar Pradesh   \n",
       "1           1  2015  165.295139  27.175015  78.042155  Uttar Pradesh   \n",
       "89        323  2014  161.157895  27.207770  77.977434  Uttar Pradesh   \n",
       "90        323  2015  166.753086  27.207770  77.977434  Uttar Pradesh   \n",
       "159       417  2014  169.226277  27.203916  78.001391  Uttar Pradesh   \n",
       "\n",
       "                          address                       geometry  index_right  \\\n",
       "0                 Taj Mahal, Agra  POINT (78.0421552 27.1750151)          559   \n",
       "1                 Taj Mahal, Agra  POINT (78.0421552 27.1750151)          559   \n",
       "89   Regional Office, Bodla, Agra  POINT (77.9774341 27.2077695)          559   \n",
       "90   Regional Office, Bodla, Agra  POINT (77.9774341 27.2077695)          559   \n",
       "159                 Rambagh, Agra   POINT (78.0013908 27.203916)          559   \n",
       "\n",
       "     ID_0    ...            NAME_1 ID_2  NAME_2    HASC_2  CCN_2 CCA_2  \\\n",
       "0     105    ...     Uttar Pradesh  559    Agra  IN.UP.AG      0         \n",
       "1     105    ...     Uttar Pradesh  559    Agra  IN.UP.AG      0         \n",
       "89    105    ...     Uttar Pradesh  559    Agra  IN.UP.AG      0         \n",
       "90    105    ...     Uttar Pradesh  559    Agra  IN.UP.AG      0         \n",
       "159   105    ...     Uttar Pradesh  559    Agra  IN.UP.AG      0         \n",
       "\n",
       "       TYPE_2  ENGTYPE_2 NL_NAME_2 VARNAME_2  \n",
       "0    District   District                      \n",
       "1    District   District                      \n",
       "89   District   District                      \n",
       "90   District   District                      \n",
       "159  District   District                      \n",
       "\n",
       "[5 rows x 23 columns]"
      ]
     },
     "execution_count": 26,
     "metadata": {},
     "output_type": "execute_result"
    }
   ],
   "source": [
    "exposure_df.head()"
   ]
  },
  {
   "cell_type": "code",
   "execution_count": 27,
   "metadata": {},
   "outputs": [
    {
     "data": {
      "text/html": [
       "<div>\n",
       "<style scoped>\n",
       "    .dataframe tbody tr th:only-of-type {\n",
       "        vertical-align: middle;\n",
       "    }\n",
       "\n",
       "    .dataframe tbody tr th {\n",
       "        vertical-align: top;\n",
       "    }\n",
       "\n",
       "    .dataframe thead th {\n",
       "        text-align: right;\n",
       "    }\n",
       "</style>\n",
       "<table border=\"1\" class=\"dataframe\">\n",
       "  <thead>\n",
       "    <tr style=\"text-align: right;\">\n",
       "      <th></th>\n",
       "      <th>stn_code</th>\n",
       "      <th>address</th>\n",
       "      <th>State</th>\n",
       "      <th>NAME_2</th>\n",
       "      <th>NAME_1</th>\n",
       "      <th>year</th>\n",
       "    </tr>\n",
       "  </thead>\n",
       "  <tbody>\n",
       "    <tr>\n",
       "      <th>0</th>\n",
       "      <td>1</td>\n",
       "      <td>Taj Mahal, Agra</td>\n",
       "      <td>Uttar Pradesh</td>\n",
       "      <td>Agra</td>\n",
       "      <td>Uttar Pradesh</td>\n",
       "      <td>2</td>\n",
       "    </tr>\n",
       "    <tr>\n",
       "      <th>1</th>\n",
       "      <td>6</td>\n",
       "      <td>Anpara Colony, Sonabhadra, Anpara</td>\n",
       "      <td>Uttar Pradesh</td>\n",
       "      <td>Sonbhadra</td>\n",
       "      <td>Uttar Pradesh</td>\n",
       "      <td>2</td>\n",
       "    </tr>\n",
       "    <tr>\n",
       "      <th>2</th>\n",
       "      <td>7</td>\n",
       "      <td>Renusagar Colony, Sonabhadra, Anpara</td>\n",
       "      <td>Uttar Pradesh</td>\n",
       "      <td>Sonbhadra</td>\n",
       "      <td>Uttar Pradesh</td>\n",
       "      <td>2</td>\n",
       "    </tr>\n",
       "    <tr>\n",
       "      <th>3</th>\n",
       "      <td>17</td>\n",
       "      <td>Regional Office, RJPB, Anantpura, Kota</td>\n",
       "      <td>Rajasthan</td>\n",
       "      <td>Kota</td>\n",
       "      <td>Rajasthan</td>\n",
       "      <td>2</td>\n",
       "    </tr>\n",
       "    <tr>\n",
       "      <th>4</th>\n",
       "      <td>34</td>\n",
       "      <td>Tekka Bench Ridge, Simla</td>\n",
       "      <td>Himachal Pradesh</td>\n",
       "      <td>Shimla</td>\n",
       "      <td>Himachal Pradesh</td>\n",
       "      <td>2</td>\n",
       "    </tr>\n",
       "  </tbody>\n",
       "</table>\n",
       "</div>"
      ],
      "text/plain": [
       "   stn_code                                 address             State  \\\n",
       "0         1                         Taj Mahal, Agra     Uttar Pradesh   \n",
       "1         6       Anpara Colony, Sonabhadra, Anpara     Uttar Pradesh   \n",
       "2         7    Renusagar Colony, Sonabhadra, Anpara     Uttar Pradesh   \n",
       "3        17  Regional Office, RJPB, Anantpura, Kota         Rajasthan   \n",
       "4        34                Tekka Bench Ridge, Simla  Himachal Pradesh   \n",
       "\n",
       "      NAME_2            NAME_1  year  \n",
       "0       Agra     Uttar Pradesh     2  \n",
       "1  Sonbhadra     Uttar Pradesh     2  \n",
       "2  Sonbhadra     Uttar Pradesh     2  \n",
       "3       Kota         Rajasthan     2  \n",
       "4     Shimla  Himachal Pradesh     2  "
      ]
     },
     "execution_count": 27,
     "metadata": {},
     "output_type": "execute_result"
    }
   ],
   "source": [
    "exposure_df.groupby(['stn_code', 'address', 'State','NAME_2', 'NAME_1']).year.count().reset_index().head()"
   ]
  },
  {
   "cell_type": "code",
   "execution_count": 28,
   "metadata": {},
   "outputs": [
    {
     "data": {
      "text/plain": [
       "Index(['stn_code', 'year', 'pm10', 'Latitude', 'Longitude', 'State', 'address',\n",
       "       'geometry', 'index_right', 'ID_0', 'ISO', 'NAME_0', 'ID_1', 'NAME_1',\n",
       "       'ID_2', 'NAME_2', 'HASC_2', 'CCN_2', 'CCA_2', 'TYPE_2', 'ENGTYPE_2',\n",
       "       'NL_NAME_2', 'VARNAME_2'],\n",
       "      dtype='object')"
      ]
     },
     "execution_count": 28,
     "metadata": {},
     "output_type": "execute_result"
    }
   ],
   "source": [
    "exposure_df.columns"
   ]
  },
  {
   "cell_type": "code",
   "execution_count": 29,
   "metadata": {
    "scrolled": false
   },
   "outputs": [],
   "source": [
    "selected_columns = [\n",
    "    'stn_code', 'year', 'pm10', 'Latitude', 'Longitude', 'State', 'address',\n",
    "    'ID_1', 'NAME_1', 'ID_2', 'NAME_2', 'VARNAME_2'\n",
    "]\n",
    "exposure_df[selected_columns].to_csv(\"exposure1.csv\", index=False)"
   ]
  },
  {
   "cell_type": "code",
   "execution_count": 30,
   "metadata": {
    "scrolled": false
   },
   "outputs": [
    {
     "data": {
      "image/svg+xml": [
       "<svg xmlns=\"http://www.w3.org/2000/svg\" xmlns:xlink=\"http://www.w3.org/1999/xlink\" width=\"100.0\" height=\"100.0\" viewBox=\"76.24966575622565 30.721326370239495 0.5035066223145463 0.7477178192136194\" preserveAspectRatio=\"xMinYMin meet\"><g transform=\"matrix(1,0,0,-1,0,62.19037055969261)\"><path fill-rule=\"evenodd\" fill=\"#66cc99\" stroke=\"#555555\" stroke-width=\"0.014954356384272387\" opacity=\"0.6\" d=\"M 76.38162994384766,31.410619735717887 L 76.39039611816406,31.397331237792912 L 76.37924957275419,31.391170501709155 L 76.39105224609403,31.378631591796818 L 76.3992462158206,31.365470886230412 L 76.40883636474604,31.353748321533146 L 76.41284942626947,31.347658157348633 L 76.41816711425793,31.337310791015625 L 76.42801666259788,31.32518005371105 L 76.43744659423822,31.317422866821573 L 76.44827270507841,31.30599021911644 L 76.44558715820318,31.30041122436546 L 76.43580627441412,31.2946395874024 L 76.4284973144533,31.289230346679688 L 76.43113708496105,31.282840728759766 L 76.44577789306646,31.289709091186467 L 76.45101165771501,31.29620933532715 L 76.46208953857439,31.30681037902849 L 76.46671295166021,31.310211181640625 L 76.47245025634771,31.306699752807617 L 76.47505950927751,31.298999786376896 L 76.47564697265625,31.292200088501033 L 76.47972869873053,31.28910255432129 L 76.48320770263683,31.284271240234375 L 76.48858642578142,31.27340126037592 L 76.49823760986357,31.273290634155387 L 76.50340270996122,31.277889251708984 L 76.51091003417986,31.28261947631836 L 76.51426696777372,31.283079147338867 L 76.51658630371105,31.277389526367358 L 76.51428222656278,31.264501571655558 L 76.5181121826173,31.26231002807623 L 76.52789306640642,31.269960403442326 L 76.53122711181646,31.28354072570818 L 76.53717041015653,31.28395080566412 L 76.53481292724615,31.272331237793026 L 76.53264617919939,31.26651191711437 L 76.53495025634783,31.255350112915266 L 76.54592132568388,31.255880355835018 L 76.55224609375028,31.264852523803825 L 76.57050323486351,31.28014945983898 L 76.601615905762,31.25090980529785 L 76.59268188476591,31.246150970459098 L 76.58470916748064,31.23964118957514 L 76.58252716064459,31.230949401855582 L 76.57596588134783,31.22578811645525 L 76.57935333251947,31.22048950195341 L 76.58061218261741,31.216352462768782 L 76.58676910400419,31.216060638427905 L 76.61625671386724,31.22944068908714 L 76.62594604492188,31.22709083557146 L 76.62452697753935,31.221040725708235 L 76.63414764404297,31.215339660644815 L 76.6354217529298,31.212980270385856 L 76.62011718750028,31.20666122436552 L 76.61869812011719,31.203901290893725 L 76.61221313476562,31.20264053344755 L 76.60576629638678,31.197120666503906 L 76.6006622314456,31.191030502319393 L 76.59831237792974,31.186479568481445 L 76.59039306640653,31.18285942077665 L 76.59246826171903,31.17229080200201 L 76.58943939209013,31.16476058959978 L 76.5914916992188,31.160320281982536 L 76.59007263183611,31.157268524170036 L 76.59467315673828,31.151340484619425 L 76.59874725341803,31.15117073059099 L 76.59395599365257,31.136499404907227 L 76.58931732177751,31.12770080566429 L 76.59744262695341,31.12619972229004 L 76.60727691650396,31.119640350341854 L 76.61559295654291,31.121580123901595 L 76.62371063232445,31.118009567261026 L 76.62573242187517,31.11024284362793 L 76.61184692382812,31.096389770507983 L 76.60782623291016,31.083501815796012 L 76.60489654541027,31.07837867736839 L 76.6095275878908,31.060670852661246 L 76.59896850585966,31.0535507202149 L 76.60151672363298,31.043561935425032 L 76.6051864624024,31.033519744873047 L 76.61360168457054,31.02198982238781 L 76.61006927490229,31.004230499267805 L 76.61241912841797,31.002050399780558 L 76.62094879150408,30.998300552368278 L 76.62592315673845,30.992498397827433 L 76.63334655761736,30.99072265625017 L 76.653060913086,30.98180961608898 L 76.66263580322271,30.971130371093977 L 76.66819000244169,30.96988105773937 L 76.6942367553711,30.972490310669173 L 76.69615936279303,30.97179031372093 L 76.6983795166015,30.968891143798828 L 76.70507812500017,30.96330070495617 L 76.71260070800804,30.96342086791998 L 76.72413635253923,30.950582504272404 L 76.72547912597673,30.942510604858512 L 76.71775054931663,30.938329696655558 L 76.70099639892607,30.932199478149585 L 76.68974304199247,30.93445968627941 L 76.68563079834001,30.934249877929858 L 76.67977905273443,30.92987060546892 L 76.67209625244158,30.921949386596793 L 76.67060852050787,30.919267654418945 L 76.6662521362307,30.917800903320426 L 76.65426635742216,30.91773986816412 L 76.63368225097685,30.911689758301065 L 76.62896728515642,30.907760620117188 L 76.61564636230469,30.902069091797102 L 76.60320281982416,30.895050048828182 L 76.59559631347673,30.89226150512718 L 76.59423828124994,30.888940811157227 L 76.59491729736351,30.884780883789347 L 76.58824920654303,30.882141113281364 L 76.58833312988298,30.880300521850813 L 76.58373260498058,30.87963294982933 L 76.5832290649414,30.87179946899431 L 76.57595062255876,30.867790222168082 L 76.5722274780274,30.87097930908226 L 76.56796264648438,30.872150421142578 L 76.55554199218767,30.872150421142578 L 76.54653930664074,30.868642807007063 L 76.544906616211,30.86590003967308 L 76.54177856445307,30.856100082397518 L 76.5382080078125,30.85415077209484 L 76.52114105224638,30.853670120239485 L 76.52044677734392,30.850799560546932 L 76.52218627929688,30.84252166748064 L 76.52198791503923,30.840160369873047 L 76.52558135986345,30.840259552002237 L 76.530532836914,30.83452987670927 L 76.53724670410173,30.823619842529354 L 76.53409576416044,30.822410583496378 L 76.53569793701189,30.81351280212425 L 76.54297637939453,30.80968093872093 L 76.54622650146484,30.809801101684798 L 76.54833221435547,30.80371284484886 L 76.54585266113281,30.80138969421415 L 76.54457855224615,30.798530578613338 L 76.54653930664074,30.790479660034237 L 76.5450515747072,30.787742614746037 L 76.54193878173857,30.784931182861612 L 76.53836822509783,30.7835502624514 L 76.53302764892595,30.784811019897575 L 76.53008270263678,30.783710479736555 L 76.52323913574247,30.7771511077882 L 76.52027893066406,30.768501281738452 L 76.51386260986334,30.76417922973627 L 76.4945297241211,30.752901077270508 L 76.48203277587919,30.74901962280296 L 76.47833251953125,30.749671936035384 L 76.46993255615234,30.753679275512866 L 76.45806121826189,30.749071121215763 L 76.4518432617188,30.757020950317496 L 76.45040893554699,30.757608413696573 L 76.44841766357428,30.75563049316412 L 76.4469528198245,30.75566101074247 L 76.43296051025396,30.762830734252987 L 76.42964935302751,30.763580322265625 L 76.4172668457033,30.76119041442871 L 76.40880584716825,30.76382064819336 L 76.40618896484392,30.763990402221793 L 76.40052032470709,30.760799407958984 L 76.39726257324219,30.761720657348633 L 76.39517211914062,30.774320602417106 L 76.39640045166044,30.776380538940543 L 76.40390777587908,30.782699584960994 L 76.40276336669939,30.793899536132812 L 76.4050369262697,30.79968070983915 L 76.40705871582037,30.80125808715843 L 76.40525817871111,30.803590774536417 L 76.3954391479495,30.811260223388956 L 76.38207244873053,30.810859680175952 L 76.37959289550787,30.811651229858455 L 76.37789916992216,30.813459396362305 L 76.3775711059572,30.815420150757063 L 76.3793563842774,30.82341003417963 L 76.37918853759788,30.83383941650402 L 76.37695312500028,30.83509063720703 L 76.3667831420899,30.836650848388786 L 76.36358642578153,30.834920883178768 L 76.36036682128935,30.830070495605582 L 76.35906219482416,30.829750061035156 L 76.35601806640642,30.832160949707145 L 76.35312652587902,30.833248138427734 L 76.34323120117182,30.833419799804915 L 76.33756256103516,30.83225059509283 L 76.3353805541995,30.83315086364746 L 76.3338928222658,30.8366374969483 L 76.3299331665039,30.840160369873047 L 76.3222732543947,30.842081069946346 L 76.32189178466814,30.84323120117199 L 76.3229522705081,30.845109939575423 L 76.32200622558622,30.847101211547795 L 76.31546020507818,30.85256958007824 L 76.31593322753918,30.853862762451342 L 76.31749725341814,30.85454940795927 L 76.3177261352539,30.856622695922965 L 76.32032775878918,30.859630584717024 L 76.32398986816423,30.861749649048136 L 76.33085632324236,30.862550735473576 L 76.33656311035173,30.867589950561637 L 76.34413146972685,30.869251251220987 L 76.34619903564476,30.872150421142578 L 76.35698699951189,30.875482559204386 L 76.36112213134794,30.878351211548136 L 76.36171722412121,30.881040573120345 L 76.35965728759783,30.89307022094738 L 76.35617828369152,30.902240753174112 L 76.35201263427751,30.90796279907255 L 76.34755706787138,30.9112491607666 L 76.33558654785168,30.915330886840934 L 76.33027648925798,30.913679122925032 L 76.3260803222658,30.90983963012701 L 76.32324218750017,30.901750564575423 L 76.31980895996111,30.899858474731502 L 76.31459045410185,30.88875961303728 L 76.31495666503935,30.882020950317383 L 76.3105926513673,30.881479263305835 L 76.3083572387697,30.881200790405273 L 76.3075408935548,30.91814994812006 L 76.30385589599632,30.922769546508903 L 76.30274200439482,30.92815017700201 L 76.30867767334013,30.931161880493278 L 76.31107330322271,30.933780670166186 L 76.30951690673828,30.94284248352062 L 76.30529022216814,30.954269409179688 L 76.30272674560553,30.985950469970817 L 76.30053710937517,30.99151039123535 L 76.29730224609392,30.992670059204272 L 76.29664611816435,30.992570877075252 L 76.29503631591797,30.994499206542912 L 76.2988510131836,30.99771118164091 L 76.30326080322271,30.9986705780031 L 76.30724334716797,30.997859954834155 L 76.31244659423834,30.998241424560717 L 76.31402587890636,30.996120452880803 L 76.31418609619169,30.991170883178995 L 76.3138580322265,30.98663139343256 L 76.31252288818354,30.983999252319506 L 76.31529235839866,30.98291015625 L 76.3292770385745,30.983819961548136 L 76.33072662353521,30.983230590820426 L 76.3318710327149,30.980960845947493 L 76.3362426757813,30.977661132812614 L 76.3434829711914,30.97459983825695 L 76.34910583496122,30.973592758178768 L 76.35507965087908,30.975439071655273 L 76.35706329345726,30.977600097656477 L 76.35909271240251,30.978370666504134 L 76.36258697509771,30.977680206298828 L 76.37227630615234,30.979290008545206 L 76.38884735107439,30.97919273376459 L 76.39234161376959,30.97855186462408 L 76.39335632324247,30.97628021240257 L 76.39527893066418,30.976020812988452 L 76.40209960937506,30.977060317993164 L 76.40434265136724,30.976209640503157 L 76.40899658203153,30.97659111022972 L 76.42836761474615,30.9745197296142 L 76.45049285888678,30.977872848510742 L 76.46144866943388,30.981718063354492 L 76.46723175048845,30.981840133667106 L 76.4788284301759,30.980131149292106 L 76.48118591308594,30.981588363647518 L 76.49516296386741,30.98139190673828 L 76.49846649169933,30.982999801635685 L 76.5009307861331,30.985202789306925 L 76.50656127929688,30.99822044372587 L 76.50200653076178,31.00412940979004 L 76.49540710449247,31.00744056701666 L 76.48519897460938,31.013401031494197 L 76.46711730957054,31.028007507324332 L 76.45272827148455,31.043209075927848 L 76.44777679443376,31.056560516357536 L 76.44094848632812,31.059480667114485 L 76.42295074462885,31.083400726318416 L 76.42053985595703,31.093460083008097 L 76.41528320312528,31.10019111633312 L 76.4188995361331,31.109680175781364 L 76.41591644287126,31.11808013916027 L 76.40834045410162,31.12307929992687 L 76.40410614013689,31.130212783813477 L 76.37381744384771,31.151630401611328 L 76.36920928955095,31.157960891723917 L 76.36216735839844,31.175710678100586 L 76.35626220703125,31.18709945678711 L 76.3477401733399,31.1985893249514 L 76.3433227539063,31.208431243896655 L 76.33937835693388,31.20927810668951 L 76.3331604003908,31.213291168212947 L 76.3284606933596,31.21852111816429 L 76.32684326171892,31.22589111328142 L 76.32504272460943,31.228410720825366 L 76.32170867919939,31.229410171509016 L 76.32525634765653,31.232862472534123 L 76.33348846435558,31.235120773315714 L 76.33790588378923,31.240949630737532 L 76.32646942138689,31.249830245971793 L 76.32312774658209,31.25397109985363 L 76.31810760498047,31.26593017578125 L 76.31301879882818,31.26959991455078 L 76.30506896972668,31.273099899292106 L 76.29923248291016,31.27763175964367 L 76.29689788818376,31.281240463256893 L 76.29602813720726,31.292011260986328 L 76.29447937011724,31.295391082763672 L 76.28524017333979,31.29530906677269 L 76.28056335449224,31.298110961914347 L 76.27799987792963,31.302370071411246 L 76.27735900878912,31.30993080139183 L 76.2843933105471,31.313560485840128 L 76.29039001464838,31.31563186645525 L 76.29609680175793,31.31920051574724 L 76.3022689819336,31.32636070251482 L 76.29596710205095,31.342229843139876 L 76.29991912841808,31.34383010864252 L 76.31579589843767,31.34749984741211 L 76.31783294677763,31.35222053527832 L 76.32446289062506,31.347110748291186 L 76.33007812500017,31.345279693603572 L 76.3366622924807,31.353019714355582 L 76.33129882812506,31.35909271240257 L 76.33001708984403,31.36771011352556 L 76.32958221435553,31.37951850891136 L 76.31823730468744,31.38109970092796 L 76.31877136230497,31.38817977905296 L 76.31584167480474,31.402378082275334 L 76.32952117919939,31.401138305664006 L 76.33460235595732,31.403739929199276 L 76.34689331054705,31.405710220337028 L 76.35312652587902,31.412460327148438 L 76.35914611816412,31.4156303405764 L 76.35677337646479,31.429609298706282 L 76.36313629150396,31.44135093688965 L 76.36917114257807,31.42814064025879 L 76.37526702880854,31.422161102295036 L 76.37303161621094,31.413648605346964 L 76.38162994384766,31.410619735717887 z\" /></g></svg>"
      ],
      "text/plain": [
       "<shapely.geometry.polygon.Polygon at 0x7f4dafc7cf28>"
      ]
     },
     "execution_count": 30,
     "metadata": {},
     "output_type": "execute_result"
    }
   ],
   "source": [
    "india[india.ID_2==467].geometry.tolist()[0]"
   ]
  },
  {
   "cell_type": "code",
   "execution_count": 31,
   "metadata": {},
   "outputs": [
    {
     "data": {
      "image/svg+xml": [
       "<svg xmlns=\"http://www.w3.org/2000/svg\" xmlns:xlink=\"http://www.w3.org/1999/xlink\" width=\"100.0\" height=\"100.0\" viewBox=\"76.81272338867194 28.388267745971625 0.545207519531175 0.5164370727540728\" preserveAspectRatio=\"xMinYMin meet\"><g transform=\"matrix(1,0,0,-1,0,57.29297256469732)\"><path fill-rule=\"evenodd\" fill=\"#66cc99\" stroke=\"#555555\" stroke-width=\"0.0109041503906235\" opacity=\"0.6\" d=\"M 77.327133178711,28.68515968322754 L 77.32538604736328,28.682502746582088 L 77.31791687011719,28.679340362548885 L 77.31756591796875,28.671619415283317 L 77.3154296875,28.66327095031744 L 77.31533050537115,28.65137100219738 L 77.31307983398449,28.64666938781744 L 77.31121063232416,28.64464187622076 L 77.3135833740235,28.643201828003043 L 77.32095336914062,28.63602066040039 L 77.33045959472668,28.63141059875494 L 77.33422088623053,28.626991271972713 L 77.33708190917974,28.621900558471623 L 77.33753204345697,28.617492675781307 L 77.33618164062511,28.60886955261242 L 77.3331527709961,28.606712341308594 L 77.32784271240234,28.60488128662115 L 77.31694030761719,28.59996032714855 L 77.30992126464844,28.5989608764649 L 77.30713653564459,28.596910476684627 L 77.294906616211,28.582429885864315 L 77.2936477661134,28.579719543457088 L 77.29380035400402,28.56673049926752 L 77.29518890380854,28.56120109558117 L 77.30306243896484,28.55045127868658 L 77.31069946289062,28.543689727783203 L 77.31488800048828,28.541490554809684 L 77.32151031494135,28.5358505249024 L 77.33051300048828,28.524101257324162 L 77.33396911621094,28.52070236206066 L 77.33682250976562,28.51568031311041 L 77.33773803710938,28.50897026062023 L 77.33447265624994,28.511089324951172 L 77.32898712158203,28.508319854736442 L 77.3266830444336,28.503450393676815 L 77.32170104980463,28.499389648437557 L 77.31488037109375,28.494569778442496 L 77.30686950683594,28.490680694580078 L 77.30094909667969,28.490119934082145 L 77.29627227783214,28.49114990234375 L 77.28578948974621,28.496271133422965 L 77.2780532836914,28.49814987182623 L 77.27111053466808,28.49703025817871 L 77.26010131835938,28.48842811584484 L 77.25396728515636,28.48554039001465 L 77.24265289306646,28.48460006713873 L 77.23673248291021,28.479690551757812 L 77.23239898681652,28.47579956054699 L 77.22763061523449,28.469749450683594 L 77.22574615478527,28.46401023864746 L 77.22643280029303,28.46026039123535 L 77.2331161499024,28.459449768066406 L 77.23986816406244,28.4536075592041 L 77.24327850341808,28.447490692138786 L 77.24430084228516,28.441669464111328 L 77.24318695068365,28.43367958068859 L 77.24061584472668,28.42885971069336 L 77.22274780273438,28.418970108032283 L 77.2153091430664,28.41574096679699 L 77.20590972900402,28.41340065002447 L 77.19522094726574,28.412530899047965 L 77.17948913574224,28.41237068176264 L 77.16577148437506,28.408460617065373 L 77.15434265136724,28.421302795410156 L 77.15186309814459,28.428319931030273 L 77.1424331665039,28.435710906982422 L 77.13138580322266,28.438701629638786 L 77.12407684326183,28.439237594604492 L 77.11830139160162,28.442430496215877 L 77.11251068115234,28.450231552123967 L 77.1087493896485,28.457351684570312 L 77.10604858398443,28.465900421142635 L 77.10273742675776,28.47044944763178 L 77.10154724121105,28.476478576660156 L 77.10334014892578,28.483108520507812 L 77.10766601562511,28.493869781494084 L 77.10352325439453,28.497459411621094 L 77.09031677246105,28.505451202392692 L 77.08598327636719,28.510860443115234 L 77.07247924804693,28.52028083801281 L 77.06746673583984,28.52065086364746 L 77.05696105957026,28.513860702514705 L 77.04876708984375,28.51524162292492 L 77.04165649414074,28.518960952758903 L 77.03314208984375,28.528339385986442 L 77.01963806152344,28.53327178955078 L 77.01566314697271,28.5333194732666 L 77.00609588623047,28.542779922485465 L 77.0002059936524,28.541999816894645 L 76.9959487915039,28.536899566650447 L 76.9982070922851,28.532150268554688 L 77.00499725341803,28.52873992919922 L 77.01139831542969,28.524110794067496 L 77.0109329223634,28.51803016662609 L 77.00554656982428,28.51444053649908 L 76.99027252197271,28.519781112670955 L 76.97653198242188,28.523809432983512 L 76.96846771240234,28.52758026123047 L 76.94462585449219,28.513629913330135 L 76.93321990966797,28.516040802001953 L 76.9226531982423,28.51926994323742 L 76.90847778320318,28.514909744262752 L 76.89745330810558,28.51777076721197 L 76.89372253417969,28.51614189147955 L 76.88681030273449,28.51122856140148 L 76.87937164306652,28.50905036926281 L 76.87380981445324,28.514390945434684 L 76.87946319580084,28.52399826049799 L 76.87631225585949,28.528400421142578 L 76.85920715332031,28.541919708252067 L 76.85674285888672,28.547821044921932 L 76.83761596679682,28.55698966979992 L 76.83291625976568,28.582508087158317 L 76.83502960205084,28.59140014648449 L 76.85022735595703,28.590118408203125 L 76.85481262207031,28.59235191345215 L 76.86090087890625,28.60251045227062 L 76.87793731689459,28.637630462646598 L 76.89367675781261,28.632751464843807 L 76.89727020263683,28.63280105590826 L 76.90400695800781,28.637939453125114 L 76.91034698486328,28.637830734252987 L 76.92366027832031,28.62865066528326 L 76.92597961425781,28.629249572753906 L 76.9339065551759,28.637649536132812 L 76.91821289062506,28.65327072143566 L 76.91748809814464,28.65727043151861 L 76.92310333251953,28.66921043395996 L 76.92973327636713,28.67441940307623 L 76.94255065917969,28.67511177062994 L 76.94725036621105,28.677160263061637 L 76.94595336914057,28.68348121643072 L 76.94838714599621,28.687990188598576 L 76.94999694824219,28.694129943847713 L 76.95421600341797,28.700529098510742 L 76.95459747314453,28.705371856689567 L 76.95095825195312,28.70976066589361 L 76.94126129150396,28.717029571533146 L 76.95066070556652,28.736459732055664 L 76.94919586181635,28.741502761840877 L 76.95031738281261,28.746650695800895 L 76.94744110107433,28.751131057739258 L 76.93820953369146,28.75962066650402 L 76.94657135009766,28.77403068542486 L 76.94396972656256,28.778530120849666 L 76.94233703613281,28.78775978088379 L 76.94309234619135,28.795120239257926 L 76.93746948242193,28.803501129150447 L 76.93736267089838,28.809150695800838 L 76.9423065185548,28.820680618286246 L 76.94822692871105,28.817661285400447 L 76.95578002929693,28.820020675659293 L 76.9580078125,28.830329895019588 L 76.9608306884765,28.831670761108512 L 76.97056579589844,28.82510185241705 L 76.97368621826178,28.82583045959484 L 76.97955322265625,28.83670043945324 L 76.98349761962902,28.839080810546932 L 76.98972320556646,28.839160919189453 L 77.00662994384766,28.83526039123535 L 77.01880645751947,28.83706283569336 L 77.02466583251964,28.83628082275402 L 77.0315399169923,28.836790084838924 L 77.0376663208009,28.852777481079045 L 77.04975891113281,28.873189926147518 L 77.065658569336,28.873001098632812 L 77.07013702392578,28.8800106048584 L 77.07585144042969,28.88451194763195 L 77.08335113525396,28.87461853027355 L 77.09945678710949,28.87244033813488 L 77.10713195800781,28.868450164795036 L 77.1097030639649,28.86613273620611 L 77.1285400390625,28.865390777588004 L 77.13508605957037,28.858489990234375 L 77.13558959960938,28.852689743041935 L 77.13381195068371,28.84472274780279 L 77.13919830322266,28.841669082641715 L 77.1423797607423,28.842470169067496 L 77.15065002441406,28.848449707031307 L 77.15959930419922,28.857442855835075 L 77.16458892822266,28.860630035400504 L 77.18363952636719,28.86230087280279 L 77.1868667602539,28.866819381713867 L 77.19348907470714,28.865350723266715 L 77.19964599609375,28.864940643310604 L 77.20479583740234,28.862911224365348 L 77.20783233642572,28.860219955444393 L 77.21147155761719,28.85493087768549 L 77.21061706542974,28.845291137695256 L 77.21732330322277,28.835279464721793 L 77.21364593505865,28.813499450683594 L 77.19461059570324,28.815362930297965 L 77.19444274902355,28.802291870117244 L 77.19692230224621,28.795280456543082 L 77.20269012451172,28.78940963745123 L 77.20845031738281,28.787189483642692 L 77.21305084228521,28.786439895629883 L 77.21826934814464,28.787628173828182 L 77.22467803955078,28.787628173828182 L 77.22206878662115,28.783740997314567 L 77.2171020507813,28.78168106079096 L 77.2209091186524,28.777900695800838 L 77.22904205322266,28.77243804931635 L 77.23799133300781,28.759220123291016 L 77.24585723876959,28.757350921630916 L 77.24846649169922,28.757530212402457 L 77.25319671630871,28.752790451049805 L 77.2518768310548,28.745500564575252 L 77.25617218017584,28.7399196624757 L 77.25991821289062,28.73812294006359 L 77.26637268066418,28.739280700683594 L 77.27111816406261,28.738189697265682 L 77.27686309814464,28.734399795532227 L 77.28069305419916,28.730020523071346 L 77.28441619873053,28.723930358886832 L 77.2836532592774,28.718982696533203 L 77.28489685058594,28.712459564208984 L 77.2929458618164,28.709770202636776 L 77.2956314086914,28.71303939819336 L 77.3014602661134,28.716730117797965 L 77.3062210083009,28.717670440673885 L 77.3171615600586,28.717220306396428 L 77.32348632812506,28.7158718109132 L 77.32167816162121,28.711830139160156 L 77.31983947753906,28.70364189147955 L 77.32092285156261,28.699670791625977 L 77.3275833129884,28.691841125488338 L 77.327133178711,28.68515968322754 z\" /></g></svg>"
      ],
      "text/plain": [
       "<shapely.geometry.polygon.Polygon at 0x7f4dafcb3dd8>"
      ]
     },
     "execution_count": 31,
     "metadata": {},
     "output_type": "execute_result"
    }
   ],
   "source": [
    "india[india.ID_1==25].geometry.tolist()[0]"
   ]
  },
  {
   "cell_type": "code",
   "execution_count": 32,
   "metadata": {},
   "outputs": [
    {
     "data": {
      "text/html": [
       "<div>\n",
       "<style scoped>\n",
       "    .dataframe tbody tr th:only-of-type {\n",
       "        vertical-align: middle;\n",
       "    }\n",
       "\n",
       "    .dataframe tbody tr th {\n",
       "        vertical-align: top;\n",
       "    }\n",
       "\n",
       "    .dataframe thead th {\n",
       "        text-align: right;\n",
       "    }\n",
       "</style>\n",
       "<table border=\"1\" class=\"dataframe\">\n",
       "  <thead>\n",
       "    <tr style=\"text-align: right;\">\n",
       "      <th></th>\n",
       "      <th>ID_0</th>\n",
       "      <th>ISO</th>\n",
       "      <th>NAME_0</th>\n",
       "      <th>ID_1</th>\n",
       "      <th>NAME_1</th>\n",
       "      <th>ID_2</th>\n",
       "      <th>NAME_2</th>\n",
       "      <th>HASC_2</th>\n",
       "      <th>CCN_2</th>\n",
       "      <th>CCA_2</th>\n",
       "      <th>TYPE_2</th>\n",
       "      <th>ENGTYPE_2</th>\n",
       "      <th>NL_NAME_2</th>\n",
       "      <th>VARNAME_2</th>\n",
       "      <th>geometry</th>\n",
       "    </tr>\n",
       "    <tr>\n",
       "      <th>index_right</th>\n",
       "      <th></th>\n",
       "      <th></th>\n",
       "      <th></th>\n",
       "      <th></th>\n",
       "      <th></th>\n",
       "      <th></th>\n",
       "      <th></th>\n",
       "      <th></th>\n",
       "      <th></th>\n",
       "      <th></th>\n",
       "      <th></th>\n",
       "      <th></th>\n",
       "      <th></th>\n",
       "      <th></th>\n",
       "      <th></th>\n",
       "    </tr>\n",
       "  </thead>\n",
       "  <tbody>\n",
       "    <tr>\n",
       "      <th>467</th>\n",
       "      <td>105</td>\n",
       "      <td>IND</td>\n",
       "      <td>India</td>\n",
       "      <td>28</td>\n",
       "      <td>Punjab</td>\n",
       "      <td>467</td>\n",
       "      <td>Rupnagar</td>\n",
       "      <td>IN.PB.RP</td>\n",
       "      <td>0</td>\n",
       "      <td></td>\n",
       "      <td>District</td>\n",
       "      <td>District</td>\n",
       "      <td></td>\n",
       "      <td>Ropar, Roop Nagar, Rupar</td>\n",
       "      <td>POLYGON ((76.38162994384766 31.41061973571789,...</td>\n",
       "    </tr>\n",
       "  </tbody>\n",
       "</table>\n",
       "</div>"
      ],
      "text/plain": [
       "             ID_0  ISO NAME_0  ID_1  NAME_1  ID_2    NAME_2    HASC_2  CCN_2  \\\n",
       "index_right                                                                    \n",
       "467           105  IND  India    28  Punjab   467  Rupnagar  IN.PB.RP      0   \n",
       "\n",
       "            CCA_2    TYPE_2 ENGTYPE_2 NL_NAME_2                 VARNAME_2  \\\n",
       "index_right                                                                 \n",
       "467                District  District            Ropar, Roop Nagar, Rupar   \n",
       "\n",
       "                                                      geometry  \n",
       "index_right                                                     \n",
       "467          POLYGON ((76.38162994384766 31.41061973571789,...  "
      ]
     },
     "execution_count": 32,
     "metadata": {},
     "output_type": "execute_result"
    }
   ],
   "source": [
    "india[india.ID_2==467]"
   ]
  },
  {
   "cell_type": "markdown",
   "metadata": {},
   "source": [
    "# prediction data"
   ]
  },
  {
   "cell_type": "code",
   "execution_count": 33,
   "metadata": {},
   "outputs": [
    {
     "data": {
      "text/plain": [
       "<matplotlib.axes._subplots.AxesSubplot at 0x7f4db0245320>"
      ]
     },
     "execution_count": 33,
     "metadata": {},
     "output_type": "execute_result"
    },
    {
     "data": {
      "image/png": "[encoded data removed]",
      "text/plain": [
       "<matplotlib.figure.Figure at 0x7f4db0154f98>"
      ]
     },
     "metadata": {},
     "output_type": "display_data"
    }
   ],
   "source": [
    "india['centroid_column'] = india.centroid\n",
    "india.set_geometry('centroid_column').plot()"
   ]
  },
  {
   "cell_type": "code",
   "execution_count": 34,
   "metadata": {
    "scrolled": true
   },
   "outputs": [],
   "source": [
    "records = []\n",
    "for i, r in india.iterrows():\n",
    "    records.append({\n",
    "        'ID_1': r.ID_1,\n",
    "        'NAME_1': canonize_name(r.NAME_1),\n",
    "        'ID_2': r.ID_2,\n",
    "        'NAME_2': canonize_name(r.NAME_2),\n",
    "        'Latitude': r.centroid_column.y,\n",
    "        'Longitude': r.centroid_column.x,\n",
    "    })"
   ]
  },
  {
   "cell_type": "code",
   "execution_count": 35,
   "metadata": {},
   "outputs": [],
   "source": [
    "df_pred = pd.DataFrame(records)\n",
    "df_pred.to_csv(\"predict1_jan28.csv\", index=False)"
   ]
  },
  {
   "cell_type": "markdown",
   "metadata": {},
   "source": [
    "# covariate data"
   ]
  },
  {
   "cell_type": "code",
   "execution_count": 36,
   "metadata": {
    "scrolled": false
   },
   "outputs": [],
   "source": [
    "df_census = pd.DataFrame()\n",
    "selected_columns = {'Name' : 'District',\n",
    "                    'Total Population Person': 'total_population',\n",
    "                    'Total Population Male': 'total_males',\n",
    "                    'Total Population Female': 'total_females',\n",
    "                   }\n",
    "for f in os.listdir(\"./covariate_data/\"):\n",
    "    if not f.startswith('PCA'):\n",
    "        continue\n",
    "    df = pd.read_excel(\"./covariate_data/\"+f)\n",
    "    state_name = df[df.Level=='STATE'].Name.unique().tolist()[0].lower()\n",
    "    df = df[((df.Level=='DISTRICT') & (df.TRU=='Total'))][list(selected_columns.keys())].rename(columns = selected_columns)\n",
    "    df['state'] = canonize_name(state_name)\n",
    "    df['District'] = df['District'].apply(canonize_name)\n",
    "    df_census = pd.concat([df_census, df])\n"
   ]
  },
  {
   "cell_type": "code",
   "execution_count": 37,
   "metadata": {},
   "outputs": [
    {
     "data": {
      "text/html": [
       "<div>\n",
       "<style scoped>\n",
       "    .dataframe tbody tr th:only-of-type {\n",
       "        vertical-align: middle;\n",
       "    }\n",
       "\n",
       "    .dataframe tbody tr th {\n",
       "        vertical-align: top;\n",
       "    }\n",
       "\n",
       "    .dataframe thead th {\n",
       "        text-align: right;\n",
       "    }\n",
       "</style>\n",
       "<table border=\"1\" class=\"dataframe\">\n",
       "  <thead>\n",
       "    <tr style=\"text-align: right;\">\n",
       "      <th></th>\n",
       "      <th>District</th>\n",
       "      <th>total_population</th>\n",
       "      <th>total_males</th>\n",
       "      <th>total_females</th>\n",
       "      <th>state</th>\n",
       "    </tr>\n",
       "  </thead>\n",
       "  <tbody>\n",
       "    <tr>\n",
       "      <th>3</th>\n",
       "      <td>sheopur</td>\n",
       "      <td>687861</td>\n",
       "      <td>361784</td>\n",
       "      <td>326077</td>\n",
       "      <td>madhya_pradesh</td>\n",
       "    </tr>\n",
       "    <tr>\n",
       "      <th>6</th>\n",
       "      <td>morena</td>\n",
       "      <td>1965970</td>\n",
       "      <td>1068417</td>\n",
       "      <td>897553</td>\n",
       "      <td>madhya_pradesh</td>\n",
       "    </tr>\n",
       "    <tr>\n",
       "      <th>9</th>\n",
       "      <td>bhind</td>\n",
       "      <td>1703005</td>\n",
       "      <td>926843</td>\n",
       "      <td>776162</td>\n",
       "      <td>madhya_pradesh</td>\n",
       "    </tr>\n",
       "    <tr>\n",
       "      <th>12</th>\n",
       "      <td>gwalior</td>\n",
       "      <td>2032036</td>\n",
       "      <td>1090327</td>\n",
       "      <td>941709</td>\n",
       "      <td>madhya_pradesh</td>\n",
       "    </tr>\n",
       "    <tr>\n",
       "      <th>15</th>\n",
       "      <td>datia</td>\n",
       "      <td>786754</td>\n",
       "      <td>420157</td>\n",
       "      <td>366597</td>\n",
       "      <td>madhya_pradesh</td>\n",
       "    </tr>\n",
       "  </tbody>\n",
       "</table>\n",
       "</div>"
      ],
      "text/plain": [
       "   District  total_population  total_males  total_females           state\n",
       "3   sheopur            687861       361784         326077  madhya_pradesh\n",
       "6    morena           1965970      1068417         897553  madhya_pradesh\n",
       "9     bhind           1703005       926843         776162  madhya_pradesh\n",
       "12  gwalior           2032036      1090327         941709  madhya_pradesh\n",
       "15    datia            786754       420157         366597  madhya_pradesh"
      ]
     },
     "execution_count": 37,
     "metadata": {},
     "output_type": "execute_result"
    }
   ],
   "source": [
    "df_census.head()"
   ]
  },
  {
   "cell_type": "code",
   "execution_count": 38,
   "metadata": {},
   "outputs": [],
   "source": [
    "df_pred_census = pd.merge(df_pred, df_census, left_on=['NAME_1', 'NAME_2'], right_on=['state', 'District'])"
   ]
  },
  {
   "cell_type": "code",
   "execution_count": 39,
   "metadata": {},
   "outputs": [
    {
     "data": {
      "text/html": [
       "<div>\n",
       "<style scoped>\n",
       "    .dataframe tbody tr th:only-of-type {\n",
       "        vertical-align: middle;\n",
       "    }\n",
       "\n",
       "    .dataframe tbody tr th {\n",
       "        vertical-align: top;\n",
       "    }\n",
       "\n",
       "    .dataframe thead th {\n",
       "        text-align: right;\n",
       "    }\n",
       "</style>\n",
       "<table border=\"1\" class=\"dataframe\">\n",
       "  <thead>\n",
       "    <tr style=\"text-align: right;\">\n",
       "      <th></th>\n",
       "      <th>ID_1</th>\n",
       "      <th>ID_2</th>\n",
       "      <th>Latitude</th>\n",
       "      <th>Longitude</th>\n",
       "      <th>NAME_1</th>\n",
       "      <th>NAME_2</th>\n",
       "      <th>District</th>\n",
       "      <th>total_population</th>\n",
       "      <th>total_males</th>\n",
       "      <th>total_females</th>\n",
       "      <th>state</th>\n",
       "    </tr>\n",
       "  </thead>\n",
       "  <tbody>\n",
       "    <tr>\n",
       "      <th>0</th>\n",
       "      <td>2</td>\n",
       "      <td>4</td>\n",
       "      <td>14.475092</td>\n",
       "      <td>77.570846</td>\n",
       "      <td>andhra_pradesh</td>\n",
       "      <td>anantapur</td>\n",
       "      <td>anantapur</td>\n",
       "      <td>4081148</td>\n",
       "      <td>2064495</td>\n",
       "      <td>2016653</td>\n",
       "      <td>andhra_pradesh</td>\n",
       "    </tr>\n",
       "    <tr>\n",
       "      <th>1</th>\n",
       "      <td>2</td>\n",
       "      <td>5</td>\n",
       "      <td>13.456597</td>\n",
       "      <td>79.003938</td>\n",
       "      <td>andhra_pradesh</td>\n",
       "      <td>chittoor</td>\n",
       "      <td>chittoor</td>\n",
       "      <td>4174064</td>\n",
       "      <td>2090204</td>\n",
       "      <td>2083860</td>\n",
       "      <td>andhra_pradesh</td>\n",
       "    </tr>\n",
       "    <tr>\n",
       "      <th>2</th>\n",
       "      <td>2</td>\n",
       "      <td>6</td>\n",
       "      <td>17.183853</td>\n",
       "      <td>82.001021</td>\n",
       "      <td>andhra_pradesh</td>\n",
       "      <td>east_godavari</td>\n",
       "      <td>east_godavari</td>\n",
       "      <td>5154296</td>\n",
       "      <td>2569688</td>\n",
       "      <td>2584608</td>\n",
       "      <td>andhra_pradesh</td>\n",
       "    </tr>\n",
       "    <tr>\n",
       "      <th>3</th>\n",
       "      <td>2</td>\n",
       "      <td>7</td>\n",
       "      <td>16.291439</td>\n",
       "      <td>80.081278</td>\n",
       "      <td>andhra_pradesh</td>\n",
       "      <td>guntur</td>\n",
       "      <td>guntur</td>\n",
       "      <td>4887813</td>\n",
       "      <td>2440521</td>\n",
       "      <td>2447292</td>\n",
       "      <td>andhra_pradesh</td>\n",
       "    </tr>\n",
       "    <tr>\n",
       "      <th>4</th>\n",
       "      <td>2</td>\n",
       "      <td>8</td>\n",
       "      <td>16.550411</td>\n",
       "      <td>80.792897</td>\n",
       "      <td>andhra_pradesh</td>\n",
       "      <td>krishna</td>\n",
       "      <td>krishna</td>\n",
       "      <td>4517398</td>\n",
       "      <td>2267375</td>\n",
       "      <td>2250023</td>\n",
       "      <td>andhra_pradesh</td>\n",
       "    </tr>\n",
       "  </tbody>\n",
       "</table>\n",
       "</div>"
      ],
      "text/plain": [
       "   ID_1  ID_2   Latitude  Longitude          NAME_1         NAME_2  \\\n",
       "0     2     4  14.475092  77.570846  andhra_pradesh      anantapur   \n",
       "1     2     5  13.456597  79.003938  andhra_pradesh       chittoor   \n",
       "2     2     6  17.183853  82.001021  andhra_pradesh  east_godavari   \n",
       "3     2     7  16.291439  80.081278  andhra_pradesh         guntur   \n",
       "4     2     8  16.550411  80.792897  andhra_pradesh        krishna   \n",
       "\n",
       "        District  total_population  total_males  total_females           state  \n",
       "0      anantapur           4081148      2064495        2016653  andhra_pradesh  \n",
       "1       chittoor           4174064      2090204        2083860  andhra_pradesh  \n",
       "2  east_godavari           5154296      2569688        2584608  andhra_pradesh  \n",
       "3         guntur           4887813      2440521        2447292  andhra_pradesh  \n",
       "4        krishna           4517398      2267375        2250023  andhra_pradesh  "
      ]
     },
     "execution_count": 39,
     "metadata": {},
     "output_type": "execute_result"
    }
   ],
   "source": [
    "df_pred_census.head()"
   ]
  },
  {
   "cell_type": "code",
   "execution_count": 40,
   "metadata": {},
   "outputs": [
    {
     "data": {
      "text/html": [
       "<div>\n",
       "<style scoped>\n",
       "    .dataframe tbody tr th:only-of-type {\n",
       "        vertical-align: middle;\n",
       "    }\n",
       "\n",
       "    .dataframe tbody tr th {\n",
       "        vertical-align: top;\n",
       "    }\n",
       "\n",
       "    .dataframe thead th {\n",
       "        text-align: right;\n",
       "    }\n",
       "</style>\n",
       "<table border=\"1\" class=\"dataframe\">\n",
       "  <thead>\n",
       "    <tr style=\"text-align: right;\">\n",
       "      <th></th>\n",
       "      <th>ID_1</th>\n",
       "      <th>ID_2</th>\n",
       "      <th>Latitude</th>\n",
       "      <th>Longitude</th>\n",
       "      <th>NAME_1</th>\n",
       "      <th>NAME_2</th>\n",
       "    </tr>\n",
       "  </thead>\n",
       "  <tbody>\n",
       "    <tr>\n",
       "      <th>563</th>\n",
       "      <td>34</td>\n",
       "      <td>563</td>\n",
       "      <td>26.286784</td>\n",
       "      <td>81.630814</td>\n",
       "      <td>uttar_pradesh</td>\n",
       "      <td>amethi</td>\n",
       "    </tr>\n",
       "    <tr>\n",
       "      <th>564</th>\n",
       "      <td>34</td>\n",
       "      <td>564</td>\n",
       "      <td>28.843397</td>\n",
       "      <td>78.349147</td>\n",
       "      <td>uttar_pradesh</td>\n",
       "      <td>amroha</td>\n",
       "    </tr>\n",
       "    <tr>\n",
       "      <th>572</th>\n",
       "      <td>34</td>\n",
       "      <td>572</td>\n",
       "      <td>26.916742</td>\n",
       "      <td>81.371661</td>\n",
       "      <td>uttar_pradesh</td>\n",
       "      <td>barabanki</td>\n",
       "    </tr>\n",
       "    <tr>\n",
       "      <th>593</th>\n",
       "      <td>34</td>\n",
       "      <td>593</td>\n",
       "      <td>28.717799</td>\n",
       "      <td>77.870153</td>\n",
       "      <td>uttar_pradesh</td>\n",
       "      <td>hapur</td>\n",
       "    </tr>\n",
       "    <tr>\n",
       "      <th>595</th>\n",
       "      <td>34</td>\n",
       "      <td>595</td>\n",
       "      <td>27.576148</td>\n",
       "      <td>78.144032</td>\n",
       "      <td>uttar_pradesh</td>\n",
       "      <td>hathras</td>\n",
       "    </tr>\n",
       "    <tr>\n",
       "      <th>602</th>\n",
       "      <td>34</td>\n",
       "      <td>602</td>\n",
       "      <td>27.782238</td>\n",
       "      <td>78.836772</td>\n",
       "      <td>uttar_pradesh</td>\n",
       "      <td>kasganj</td>\n",
       "    </tr>\n",
       "    <tr>\n",
       "      <th>605</th>\n",
       "      <td>34</td>\n",
       "      <td>605</td>\n",
       "      <td>28.127597</td>\n",
       "      <td>80.656539</td>\n",
       "      <td>uttar_pradesh</td>\n",
       "      <td>lakhimpur_kheri</td>\n",
       "    </tr>\n",
       "    <tr>\n",
       "      <th>608</th>\n",
       "      <td>34</td>\n",
       "      <td>608</td>\n",
       "      <td>27.188149</td>\n",
       "      <td>83.500783</td>\n",
       "      <td>uttar_pradesh</td>\n",
       "      <td>maharajganj</td>\n",
       "    </tr>\n",
       "    <tr>\n",
       "      <th>622</th>\n",
       "      <td>34</td>\n",
       "      <td>622</td>\n",
       "      <td>28.454091</td>\n",
       "      <td>78.527646</td>\n",
       "      <td>uttar_pradesh</td>\n",
       "      <td>sambhal</td>\n",
       "    </tr>\n",
       "    <tr>\n",
       "      <th>624</th>\n",
       "      <td>34</td>\n",
       "      <td>624</td>\n",
       "      <td>25.350985</td>\n",
       "      <td>82.455649</td>\n",
       "      <td>uttar_pradesh</td>\n",
       "      <td>sant_ravi_das_nagar</td>\n",
       "    </tr>\n",
       "    <tr>\n",
       "      <th>626</th>\n",
       "      <td>34</td>\n",
       "      <td>626</td>\n",
       "      <td>29.499573</td>\n",
       "      <td>77.276470</td>\n",
       "      <td>uttar_pradesh</td>\n",
       "      <td>shamli</td>\n",
       "    </tr>\n",
       "    <tr>\n",
       "      <th>627</th>\n",
       "      <td>34</td>\n",
       "      <td>627</td>\n",
       "      <td>27.678408</td>\n",
       "      <td>81.815827</td>\n",
       "      <td>uttar_pradesh</td>\n",
       "      <td>shravasti</td>\n",
       "    </tr>\n",
       "    <tr>\n",
       "      <th>628</th>\n",
       "      <td>34</td>\n",
       "      <td>628</td>\n",
       "      <td>27.232809</td>\n",
       "      <td>82.860319</td>\n",
       "      <td>uttar_pradesh</td>\n",
       "      <td>siddharth_nagar</td>\n",
       "    </tr>\n",
       "  </tbody>\n",
       "</table>\n",
       "</div>"
      ],
      "text/plain": [
       "     ID_1  ID_2   Latitude  Longitude         NAME_1               NAME_2\n",
       "563    34   563  26.286784  81.630814  uttar_pradesh               amethi\n",
       "564    34   564  28.843397  78.349147  uttar_pradesh               amroha\n",
       "572    34   572  26.916742  81.371661  uttar_pradesh            barabanki\n",
       "593    34   593  28.717799  77.870153  uttar_pradesh                hapur\n",
       "595    34   595  27.576148  78.144032  uttar_pradesh              hathras\n",
       "602    34   602  27.782238  78.836772  uttar_pradesh              kasganj\n",
       "605    34   605  28.127597  80.656539  uttar_pradesh      lakhimpur_kheri\n",
       "608    34   608  27.188149  83.500783  uttar_pradesh          maharajganj\n",
       "622    34   622  28.454091  78.527646  uttar_pradesh              sambhal\n",
       "624    34   624  25.350985  82.455649  uttar_pradesh  sant_ravi_das_nagar\n",
       "626    34   626  29.499573  77.276470  uttar_pradesh               shamli\n",
       "627    34   627  27.678408  81.815827  uttar_pradesh            shravasti\n",
       "628    34   628  27.232809  82.860319  uttar_pradesh      siddharth_nagar"
      ]
     },
     "execution_count": 40,
     "metadata": {},
     "output_type": "execute_result"
    }
   ],
   "source": [
    "df_pred[(~df_pred.NAME_2.isin(set(df_pred_census.NAME_2.unique()))) & (df_pred.NAME_1=='uttar_pradesh')]"
   ]
  },
  {
   "cell_type": "code",
   "execution_count": 41,
   "metadata": {},
   "outputs": [
    {
     "data": {
      "text/plain": [
       "array(['saharanpur', 'muzaffarnagar', 'bijnor', 'moradabad', 'rampur',\n",
       "       'jyotiba_phule_nagar', 'meerut', 'baghpat', 'ghaziabad',\n",
       "       'gautam_buddha_nagar', 'bulandshahr', 'aligarh', 'mahamaya_nagar',\n",
       "       'mathura', 'agra', 'firozabad', 'mainpuri', 'budaun', 'bareilly',\n",
       "       'pilibhit', 'shahjahanpur', 'kheri', 'sitapur', 'hardoi', 'unnao',\n",
       "       'lucknow', 'rae_bareli', 'farrukhabad', 'kannauj', 'etawah',\n",
       "       'auraiya', 'kanpur_dehat', 'kanpur_nagar', 'jalaun', 'jhansi',\n",
       "       'lalitpur', 'hamirpur', 'mahoba', 'banda', 'chitrakoot', 'fatehpur',\n",
       "       'pratapgarh', 'kaushambi', 'allahabad', 'bara_banki', 'faizabad',\n",
       "       'ambedkar_nagar', 'sultanpur', 'bahraich', 'shrawasti', 'balrampur',\n",
       "       'gonda', 'siddharthnagar', 'basti', 'sant_kabir_nagar',\n",
       "       'mahrajganj', 'gorakhpur', 'kushinagar', 'deoria', 'azamgarh',\n",
       "       'mau', 'ballia', 'jaunpur', 'ghazipur', 'chandauli', 'varanasi',\n",
       "       'sant_ravidas_nagar_(bhadohi)', 'mirzapur', 'sonbhadra', 'etah',\n",
       "       'kanshiram_nagar'], dtype=object)"
      ]
     },
     "execution_count": 41,
     "metadata": {},
     "output_type": "execute_result"
    }
   ],
   "source": [
    "df_census[df_census.state=='uttar_pradesh'].District.unique()"
   ]
  },
  {
   "cell_type": "code",
   "execution_count": 42,
   "metadata": {},
   "outputs": [],
   "source": [
    "# df_pred[df_pred.NAME_1=='uttar_pradesh'].NAME_2.unique()"
   ]
  },
  {
   "cell_type": "code",
   "execution_count": 43,
   "metadata": {},
   "outputs": [
    {
     "data": {
      "text/html": [
       "<div>\n",
       "<style scoped>\n",
       "    .dataframe tbody tr th:only-of-type {\n",
       "        vertical-align: middle;\n",
       "    }\n",
       "\n",
       "    .dataframe tbody tr th {\n",
       "        vertical-align: top;\n",
       "    }\n",
       "\n",
       "    .dataframe thead th {\n",
       "        text-align: right;\n",
       "    }\n",
       "</style>\n",
       "<table border=\"1\" class=\"dataframe\">\n",
       "  <thead>\n",
       "    <tr style=\"text-align: right;\">\n",
       "      <th></th>\n",
       "      <th>ID_1</th>\n",
       "      <th>ID_2</th>\n",
       "      <th>Latitude</th>\n",
       "      <th>Longitude</th>\n",
       "      <th>NAME_1</th>\n",
       "      <th>NAME_2</th>\n",
       "      <th>District</th>\n",
       "      <th>total_population</th>\n",
       "      <th>total_males</th>\n",
       "      <th>total_females</th>\n",
       "      <th>state</th>\n",
       "    </tr>\n",
       "  </thead>\n",
       "  <tbody>\n",
       "    <tr>\n",
       "      <th>0</th>\n",
       "      <td>2</td>\n",
       "      <td>4</td>\n",
       "      <td>14.475092</td>\n",
       "      <td>77.570846</td>\n",
       "      <td>andhra_pradesh</td>\n",
       "      <td>anantapur</td>\n",
       "      <td>anantapur</td>\n",
       "      <td>4081148</td>\n",
       "      <td>2064495</td>\n",
       "      <td>2016653</td>\n",
       "      <td>andhra_pradesh</td>\n",
       "    </tr>\n",
       "    <tr>\n",
       "      <th>1</th>\n",
       "      <td>2</td>\n",
       "      <td>5</td>\n",
       "      <td>13.456597</td>\n",
       "      <td>79.003938</td>\n",
       "      <td>andhra_pradesh</td>\n",
       "      <td>chittoor</td>\n",
       "      <td>chittoor</td>\n",
       "      <td>4174064</td>\n",
       "      <td>2090204</td>\n",
       "      <td>2083860</td>\n",
       "      <td>andhra_pradesh</td>\n",
       "    </tr>\n",
       "    <tr>\n",
       "      <th>2</th>\n",
       "      <td>2</td>\n",
       "      <td>6</td>\n",
       "      <td>17.183853</td>\n",
       "      <td>82.001021</td>\n",
       "      <td>andhra_pradesh</td>\n",
       "      <td>east_godavari</td>\n",
       "      <td>east_godavari</td>\n",
       "      <td>5154296</td>\n",
       "      <td>2569688</td>\n",
       "      <td>2584608</td>\n",
       "      <td>andhra_pradesh</td>\n",
       "    </tr>\n",
       "    <tr>\n",
       "      <th>3</th>\n",
       "      <td>2</td>\n",
       "      <td>7</td>\n",
       "      <td>16.291439</td>\n",
       "      <td>80.081278</td>\n",
       "      <td>andhra_pradesh</td>\n",
       "      <td>guntur</td>\n",
       "      <td>guntur</td>\n",
       "      <td>4887813</td>\n",
       "      <td>2440521</td>\n",
       "      <td>2447292</td>\n",
       "      <td>andhra_pradesh</td>\n",
       "    </tr>\n",
       "    <tr>\n",
       "      <th>4</th>\n",
       "      <td>2</td>\n",
       "      <td>8</td>\n",
       "      <td>16.550411</td>\n",
       "      <td>80.792897</td>\n",
       "      <td>andhra_pradesh</td>\n",
       "      <td>krishna</td>\n",
       "      <td>krishna</td>\n",
       "      <td>4517398</td>\n",
       "      <td>2267375</td>\n",
       "      <td>2250023</td>\n",
       "      <td>andhra_pradesh</td>\n",
       "    </tr>\n",
       "  </tbody>\n",
       "</table>\n",
       "</div>"
      ],
      "text/plain": [
       "   ID_1  ID_2   Latitude  Longitude          NAME_1         NAME_2  \\\n",
       "0     2     4  14.475092  77.570846  andhra_pradesh      anantapur   \n",
       "1     2     5  13.456597  79.003938  andhra_pradesh       chittoor   \n",
       "2     2     6  17.183853  82.001021  andhra_pradesh  east_godavari   \n",
       "3     2     7  16.291439  80.081278  andhra_pradesh         guntur   \n",
       "4     2     8  16.550411  80.792897  andhra_pradesh        krishna   \n",
       "\n",
       "        District  total_population  total_males  total_females           state  \n",
       "0      anantapur           4081148      2064495        2016653  andhra_pradesh  \n",
       "1       chittoor           4174064      2090204        2083860  andhra_pradesh  \n",
       "2  east_godavari           5154296      2569688        2584608  andhra_pradesh  \n",
       "3         guntur           4887813      2440521        2447292  andhra_pradesh  \n",
       "4        krishna           4517398      2267375        2250023  andhra_pradesh  "
      ]
     },
     "execution_count": 43,
     "metadata": {},
     "output_type": "execute_result"
    }
   ],
   "source": [
    "df_pred_census.head()"
   ]
  },
  {
   "cell_type": "markdown",
   "metadata": {},
   "source": [
    "# outcome"
   ]
  },
  {
   "cell_type": "code",
   "execution_count": 44,
   "metadata": {},
   "outputs": [],
   "source": [
    "selected_columns = {\n",
    "    'name': 'District',\n",
    "    'total_male': 'total_male_deaths',\n",
    "    'total_female': 'total_female_deaths',\n",
    "    'total_total': 'total_deaths'\n",
    "}\n",
    "df_outcome = pd.DataFrame()\n",
    "for f in os.listdir(\"./outcome_extracted/2015/\"):\n",
    "    df = pd.read_excel(\"./outcome_extracted/2015/\"+f)\n",
    "    df_outcome = pd.concat([df_outcome, df[(df.is_state==False)&(df.cohort=='deaths')][list(selected_columns.keys())].rename(columns=selected_columns)])\n",
    "df_outcome.District = df_outcome.District.apply(canonize_name)"
   ]
  },
  {
   "cell_type": "code",
   "execution_count": 46,
   "metadata": {},
   "outputs": [],
   "source": [
    "df_pred_census_outcome = pd.merge(df_pred_census, df_outcome, on='District')"
   ]
  },
  {
   "cell_type": "code",
   "execution_count": 47,
   "metadata": {},
   "outputs": [
    {
     "data": {
      "text/plain": [
       "(640, 660, 667, 493)"
      ]
     },
     "execution_count": 47,
     "metadata": {},
     "output_type": "execute_result"
    }
   ],
   "source": [
    "len(df_census), len(df_outcome), len(df_pred), len(df_pred_census_outcome)"
   ]
  },
  {
   "cell_type": "code",
   "execution_count": 50,
   "metadata": {},
   "outputs": [],
   "source": [
    "odist = set(df_outcome.District.unique())\n",
    "cdist = set(df_pred_census_outcome.District.unique())"
   ]
  },
  {
   "cell_type": "code",
   "execution_count": 51,
   "metadata": {
    "scrolled": false
   },
   "outputs": [
    {
     "data": {
      "text/plain": [
       "set()"
      ]
     },
     "execution_count": 51,
     "metadata": {},
     "output_type": "execute_result"
    }
   ],
   "source": [
    "cdist-odist"
   ]
  },
  {
   "cell_type": "code",
   "execution_count": 52,
   "metadata": {},
   "outputs": [],
   "source": [
    "df_pred_census_outcome.to_csv(\"final_data_e_c_o.csv\")"
   ]
  },
  {
   "cell_type": "code",
   "execution_count": null,
   "metadata": {},
   "outputs": [],
   "source": []
  }
 ],
 "metadata": {
  "kernelspec": {
   "display_name": "Python 3",
   "language": "python",
   "name": "python3"
  },
  "language_info": {
   "codemirror_mode": {
    "name": "ipython",
    "version": 3
   },
   "file_extension": ".py",
   "mimetype": "text/x-python",
   "name": "python",
   "nbconvert_exporter": "python",
   "pygments_lexer": "ipython3",
   "version": "3.6.3"
  }
 },
 "nbformat": 4,
 "nbformat_minor": 2
}
